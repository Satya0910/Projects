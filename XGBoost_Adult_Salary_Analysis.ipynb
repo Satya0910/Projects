{
 "cells": [
  {
   "cell_type": "code",
   "execution_count": 1,
   "metadata": {},
   "outputs": [
    {
     "name": "stderr",
     "output_type": "stream",
     "text": [
      "C:\\Users\\Satya\\Anaconda3\\lib\\site-packages\\dask\\config.py:168: YAMLLoadWarning: calling yaml.load() without Loader=... is deprecated, as the default Loader is unsafe. Please read https://msg.pyyaml.org/load for full details.\n",
      "  data = yaml.load(f.read()) or {}\n",
      "C:\\Users\\Satya\\Anaconda3\\lib\\site-packages\\dask\\dataframe\\utils.py:13: FutureWarning: pandas.util.testing is deprecated. Use the functions in the public API at pandas.testing instead.\n",
      "  import pandas.util.testing as tm\n",
      "C:\\Users\\Satya\\Anaconda3\\lib\\site-packages\\distributed\\config.py:20: YAMLLoadWarning: calling yaml.load() without Loader=... is deprecated, as the default Loader is unsafe. Please read https://msg.pyyaml.org/load for full details.\n",
      "  defaults = yaml.load(f)\n"
     ]
    }
   ],
   "source": [
    "import numpy as np\n",
    "import pandas as pd\n",
    "import matplotlib.pyplot as plt\n",
    "%matplotlib inline\n",
    "import seaborn as sns\n",
    "from sklearn.model_selection import train_test_split\n",
    "import xgboost as xgb\n",
    "import sklearn\n",
    "from xgboost.sklearn import XGBClassifier\n",
    "from sklearn.metrics import accuracy_score"
   ]
  },
  {
   "cell_type": "code",
   "execution_count": 2,
   "metadata": {},
   "outputs": [],
   "source": [
    "train = pd.read_csv(\"adult.data\", header = None)\n",
    "test = pd.read_csv(\"adult.test\", skiprows = 1, header = None)"
   ]
  },
  {
   "cell_type": "code",
   "execution_count": 3,
   "metadata": {},
   "outputs": [
    {
     "name": "stdout",
     "output_type": "stream",
     "text": [
      "   0                  1       2           3   4                    5   \\\n",
      "0  39          State-gov   77516   Bachelors  13        Never-married   \n",
      "1  50   Self-emp-not-inc   83311   Bachelors  13   Married-civ-spouse   \n",
      "2  38            Private  215646     HS-grad   9             Divorced   \n",
      "3  53            Private  234721        11th   7   Married-civ-spouse   \n",
      "4  28            Private  338409   Bachelors  13   Married-civ-spouse   \n",
      "\n",
      "                   6               7       8        9     10  11  12  \\\n",
      "0        Adm-clerical   Not-in-family   White     Male  2174   0  40   \n",
      "1     Exec-managerial         Husband   White     Male     0   0  13   \n",
      "2   Handlers-cleaners   Not-in-family   White     Male     0   0  40   \n",
      "3   Handlers-cleaners         Husband   Black     Male     0   0  40   \n",
      "4      Prof-specialty            Wife   Black   Female     0   0  40   \n",
      "\n",
      "               13      14  \n",
      "0   United-States   <=50K  \n",
      "1   United-States   <=50K  \n",
      "2   United-States   <=50K  \n",
      "3   United-States   <=50K  \n",
      "4            Cuba   <=50K  \n",
      "   0           1       2              3   4                    5   \\\n",
      "0  25     Private  226802           11th   7        Never-married   \n",
      "1  38     Private   89814        HS-grad   9   Married-civ-spouse   \n",
      "2  28   Local-gov  336951     Assoc-acdm  12   Married-civ-spouse   \n",
      "3  44     Private  160323   Some-college  10   Married-civ-spouse   \n",
      "4  18           ?  103497   Some-college  10        Never-married   \n",
      "\n",
      "                   6           7       8        9     10  11  12  \\\n",
      "0   Machine-op-inspct   Own-child   Black     Male     0   0  40   \n",
      "1     Farming-fishing     Husband   White     Male     0   0  50   \n",
      "2     Protective-serv     Husband   White     Male     0   0  40   \n",
      "3   Machine-op-inspct     Husband   Black     Male  7688   0  40   \n",
      "4                   ?   Own-child   White   Female     0   0  30   \n",
      "\n",
      "               13       14  \n",
      "0   United-States   <=50K.  \n",
      "1   United-States   <=50K.  \n",
      "2   United-States    >50K.  \n",
      "3   United-States    >50K.  \n",
      "4   United-States   <=50K.  \n"
     ]
    }
   ],
   "source": [
    "print(train.head(5))\n",
    "print(test.head(5))"
   ]
  },
  {
   "cell_type": "markdown",
   "metadata": {},
   "source": [
    "### We can see we dont have a column header for our data"
   ]
  },
  {
   "cell_type": "code",
   "execution_count": 4,
   "metadata": {},
   "outputs": [],
   "source": [
    "col_labels = ['age', 'workclass', 'fnlwgt', 'education', 'education_num', 'marital_status', 'occupation', \n",
    "              'relationship', 'race', 'sex', 'capital_gain', 'capital_loss', 'hours_per_week', 'native_country',\n",
    "             'wage_class']"
   ]
  },
  {
   "cell_type": "code",
   "execution_count": 5,
   "metadata": {},
   "outputs": [],
   "source": [
    "# Apply these col to both dataset\n",
    "train.columns = col_labels\n",
    "test.columns = col_labels"
   ]
  },
  {
   "cell_type": "markdown",
   "metadata": {},
   "source": [
    "### Lets start EDA (Exploratory Data Anallysis)"
   ]
  },
  {
   "cell_type": "code",
   "execution_count": 6,
   "metadata": {},
   "outputs": [
    {
     "name": "stdout",
     "output_type": "stream",
     "text": [
      "<class 'pandas.core.frame.DataFrame'>\n",
      "RangeIndex: 32561 entries, 0 to 32560\n",
      "Data columns (total 15 columns):\n",
      " #   Column          Non-Null Count  Dtype \n",
      "---  ------          --------------  ----- \n",
      " 0   age             32561 non-null  int64 \n",
      " 1   workclass       32561 non-null  object\n",
      " 2   fnlwgt          32561 non-null  int64 \n",
      " 3   education       32561 non-null  object\n",
      " 4   education_num   32561 non-null  int64 \n",
      " 5   marital_status  32561 non-null  object\n",
      " 6   occupation      32561 non-null  object\n",
      " 7   relationship    32561 non-null  object\n",
      " 8   race            32561 non-null  object\n",
      " 9   sex             32561 non-null  object\n",
      " 10  capital_gain    32561 non-null  int64 \n",
      " 11  capital_loss    32561 non-null  int64 \n",
      " 12  hours_per_week  32561 non-null  int64 \n",
      " 13  native_country  32561 non-null  object\n",
      " 14  wage_class      32561 non-null  object\n",
      "dtypes: int64(6), object(9)\n",
      "memory usage: 3.7+ MB\n"
     ]
    }
   ],
   "source": [
    "train.info()"
   ]
  },
  {
   "cell_type": "code",
   "execution_count": 7,
   "metadata": {},
   "outputs": [
    {
     "name": "stdout",
     "output_type": "stream",
     "text": [
      "<class 'pandas.core.frame.DataFrame'>\n",
      "RangeIndex: 16281 entries, 0 to 16280\n",
      "Data columns (total 15 columns):\n",
      " #   Column          Non-Null Count  Dtype \n",
      "---  ------          --------------  ----- \n",
      " 0   age             16281 non-null  int64 \n",
      " 1   workclass       16281 non-null  object\n",
      " 2   fnlwgt          16281 non-null  int64 \n",
      " 3   education       16281 non-null  object\n",
      " 4   education_num   16281 non-null  int64 \n",
      " 5   marital_status  16281 non-null  object\n",
      " 6   occupation      16281 non-null  object\n",
      " 7   relationship    16281 non-null  object\n",
      " 8   race            16281 non-null  object\n",
      " 9   sex             16281 non-null  object\n",
      " 10  capital_gain    16281 non-null  int64 \n",
      " 11  capital_loss    16281 non-null  int64 \n",
      " 12  hours_per_week  16281 non-null  int64 \n",
      " 13  native_country  16281 non-null  object\n",
      " 14  wage_class      16281 non-null  object\n",
      "dtypes: int64(6), object(9)\n",
      "memory usage: 1.9+ MB\n"
     ]
    }
   ],
   "source": [
    "test.info()"
   ]
  },
  {
   "cell_type": "code",
   "execution_count": 8,
   "metadata": {},
   "outputs": [
    {
     "data": {
      "text/plain": [
       "age               0\n",
       "workclass         0\n",
       "fnlwgt            0\n",
       "education         0\n",
       "education_num     0\n",
       "marital_status    0\n",
       "occupation        0\n",
       "relationship      0\n",
       "race              0\n",
       "sex               0\n",
       "capital_gain      0\n",
       "capital_loss      0\n",
       "hours_per_week    0\n",
       "native_country    0\n",
       "wage_class        0\n",
       "dtype: int64"
      ]
     },
     "execution_count": 8,
     "metadata": {},
     "output_type": "execute_result"
    }
   ],
   "source": [
    "train.isnull().sum()"
   ]
  },
  {
   "cell_type": "code",
   "execution_count": 9,
   "metadata": {},
   "outputs": [
    {
     "data": {
      "text/plain": [
       " Private             22696\n",
       " Self-emp-not-inc     2541\n",
       " Local-gov            2093\n",
       " ?                    1836\n",
       " State-gov            1298\n",
       " Self-emp-inc         1116\n",
       " Federal-gov           960\n",
       " Without-pay            14\n",
       " Never-worked            7\n",
       "Name: workclass, dtype: int64"
      ]
     },
     "execution_count": 9,
     "metadata": {},
     "output_type": "execute_result"
    }
   ],
   "source": [
    "# From above we can see there is no missing values\n",
    "# now lets check unique values and count of it which having type as object\n",
    "train.workclass.value_counts()"
   ]
  },
  {
   "cell_type": "code",
   "execution_count": 10,
   "metadata": {},
   "outputs": [
    {
     "data": {
      "text/plain": [
       " Private             11210\n",
       " Self-emp-not-inc     1321\n",
       " Local-gov            1043\n",
       " ?                     963\n",
       " State-gov             683\n",
       " Self-emp-inc          579\n",
       " Federal-gov           472\n",
       " Without-pay             7\n",
       " Never-worked            3\n",
       "Name: workclass, dtype: int64"
      ]
     },
     "execution_count": 10,
     "metadata": {},
     "output_type": "execute_result"
    }
   ],
   "source": [
    "test.workclass.value_counts()"
   ]
  },
  {
   "cell_type": "code",
   "execution_count": 11,
   "metadata": {},
   "outputs": [
    {
     "data": {
      "text/plain": [
       "(30162, 15)"
      ]
     },
     "execution_count": 11,
     "metadata": {},
     "output_type": "execute_result"
    }
   ],
   "source": [
    "# both train and test data has ? so lets drop ? and then see its impact\n",
    "train.replace(' ?', np.nan).dropna().shape "
   ]
  },
  {
   "cell_type": "code",
   "execution_count": 12,
   "metadata": {},
   "outputs": [
    {
     "data": {
      "text/plain": [
       "(15060, 15)"
      ]
     },
     "execution_count": 12,
     "metadata": {},
     "output_type": "execute_result"
    }
   ],
   "source": [
    "test.replace(' ?', np.nan).dropna().shape "
   ]
  },
  {
   "cell_type": "code",
   "execution_count": 13,
   "metadata": {},
   "outputs": [],
   "source": [
    "train_nomissing = train.replace(' ?', np.nan).dropna()\n",
    "test_nomissing = test.replace(' ?', np.nan).dropna()"
   ]
  },
  {
   "cell_type": "code",
   "execution_count": 14,
   "metadata": {},
   "outputs": [],
   "source": [
    "\n",
    "test_nomissing['wage_class'] = test_nomissing.wage_class.replace({' <=50K.': ' <=50K', ' >50K.':' >50K'})"
   ]
  },
  {
   "cell_type": "code",
   "execution_count": 15,
   "metadata": {},
   "outputs": [
    {
     "data": {
      "text/plain": [
       "array([' <=50K', ' >50K'], dtype=object)"
      ]
     },
     "execution_count": 15,
     "metadata": {},
     "output_type": "execute_result"
    }
   ],
   "source": [
    "# Checking the unique values from each set, we can see if they now match\n",
    "test_nomissing.wage_class.unique()"
   ]
  },
  {
   "cell_type": "code",
   "execution_count": 16,
   "metadata": {},
   "outputs": [
    {
     "data": {
      "text/plain": [
       "array([' <=50K', ' >50K'], dtype=object)"
      ]
     },
     "execution_count": 16,
     "metadata": {},
     "output_type": "execute_result"
    }
   ],
   "source": [
    "train_nomissing.wage_class.unique()"
   ]
  },
  {
   "cell_type": "code",
   "execution_count": 17,
   "metadata": {},
   "outputs": [],
   "source": [
    "combined_set = pd.concat([train_nomissing, test_nomissing], axis = 0) # Stacks them vertically"
   ]
  },
  {
   "cell_type": "code",
   "execution_count": 18,
   "metadata": {},
   "outputs": [
    {
     "name": "stdout",
     "output_type": "stream",
     "text": [
      "<class 'pandas.core.frame.DataFrame'>\n",
      "Int64Index: 45222 entries, 0 to 16280\n",
      "Data columns (total 15 columns):\n",
      " #   Column          Non-Null Count  Dtype \n",
      "---  ------          --------------  ----- \n",
      " 0   age             45222 non-null  int64 \n",
      " 1   workclass       45222 non-null  object\n",
      " 2   fnlwgt          45222 non-null  int64 \n",
      " 3   education       45222 non-null  object\n",
      " 4   education_num   45222 non-null  int64 \n",
      " 5   marital_status  45222 non-null  object\n",
      " 6   occupation      45222 non-null  object\n",
      " 7   relationship    45222 non-null  object\n",
      " 8   race            45222 non-null  object\n",
      " 9   sex             45222 non-null  object\n",
      " 10  capital_gain    45222 non-null  int64 \n",
      " 11  capital_loss    45222 non-null  int64 \n",
      " 12  hours_per_week  45222 non-null  int64 \n",
      " 13  native_country  45222 non-null  object\n",
      " 14  wage_class      45222 non-null  object\n",
      "dtypes: int64(6), object(9)\n",
      "memory usage: 5.5+ MB\n"
     ]
    }
   ],
   "source": [
    "combined_set.info()"
   ]
  },
  {
   "cell_type": "code",
   "execution_count": 19,
   "metadata": {},
   "outputs": [],
   "source": [
    "for feature in combined_set.columns: # Loop through all columns in the dataframe\n",
    "    if combined_set[feature].dtype == 'object': # Only apply for columns with categorical strings\n",
    "        combined_set[feature] = pd.Categorical(combined_set[feature]).codes # Replace strings with an integer"
   ]
  },
  {
   "cell_type": "code",
   "execution_count": 20,
   "metadata": {},
   "outputs": [
    {
     "name": "stdout",
     "output_type": "stream",
     "text": [
      "<class 'pandas.core.frame.DataFrame'>\n",
      "Int64Index: 45222 entries, 0 to 16280\n",
      "Data columns (total 15 columns):\n",
      " #   Column          Non-Null Count  Dtype\n",
      "---  ------          --------------  -----\n",
      " 0   age             45222 non-null  int64\n",
      " 1   workclass       45222 non-null  int8 \n",
      " 2   fnlwgt          45222 non-null  int64\n",
      " 3   education       45222 non-null  int8 \n",
      " 4   education_num   45222 non-null  int64\n",
      " 5   marital_status  45222 non-null  int8 \n",
      " 6   occupation      45222 non-null  int8 \n",
      " 7   relationship    45222 non-null  int8 \n",
      " 8   race            45222 non-null  int8 \n",
      " 9   sex             45222 non-null  int8 \n",
      " 10  capital_gain    45222 non-null  int64\n",
      " 11  capital_loss    45222 non-null  int64\n",
      " 12  hours_per_week  45222 non-null  int64\n",
      " 13  native_country  45222 non-null  int8 \n",
      " 14  wage_class      45222 non-null  int8 \n",
      "dtypes: int64(6), int8(9)\n",
      "memory usage: 2.8 MB\n"
     ]
    }
   ],
   "source": [
    "combined_set.info()"
   ]
  },
  {
   "cell_type": "code",
   "execution_count": 21,
   "metadata": {},
   "outputs": [
    {
     "data": {
      "text/plain": [
       "(45222, 15)"
      ]
     },
     "execution_count": 21,
     "metadata": {},
     "output_type": "execute_result"
    }
   ],
   "source": [
    "combined_set.shape"
   ]
  },
  {
   "cell_type": "code",
   "execution_count": 22,
   "metadata": {},
   "outputs": [
    {
     "data": {
      "text/html": [
       "<div>\n",
       "<style scoped>\n",
       "    .dataframe tbody tr th:only-of-type {\n",
       "        vertical-align: middle;\n",
       "    }\n",
       "\n",
       "    .dataframe tbody tr th {\n",
       "        vertical-align: top;\n",
       "    }\n",
       "\n",
       "    .dataframe thead th {\n",
       "        text-align: right;\n",
       "    }\n",
       "</style>\n",
       "<table border=\"1\" class=\"dataframe\">\n",
       "  <thead>\n",
       "    <tr style=\"text-align: right;\">\n",
       "      <th></th>\n",
       "      <th>age</th>\n",
       "      <th>workclass</th>\n",
       "      <th>fnlwgt</th>\n",
       "      <th>education</th>\n",
       "      <th>education_num</th>\n",
       "      <th>marital_status</th>\n",
       "      <th>occupation</th>\n",
       "      <th>relationship</th>\n",
       "      <th>race</th>\n",
       "      <th>sex</th>\n",
       "      <th>capital_gain</th>\n",
       "      <th>capital_loss</th>\n",
       "      <th>hours_per_week</th>\n",
       "      <th>native_country</th>\n",
       "      <th>wage_class</th>\n",
       "    </tr>\n",
       "  </thead>\n",
       "  <tbody>\n",
       "    <tr>\n",
       "      <th>0</th>\n",
       "      <td>39</td>\n",
       "      <td>5</td>\n",
       "      <td>77516</td>\n",
       "      <td>9</td>\n",
       "      <td>13</td>\n",
       "      <td>4</td>\n",
       "      <td>0</td>\n",
       "      <td>1</td>\n",
       "      <td>4</td>\n",
       "      <td>1</td>\n",
       "      <td>2174</td>\n",
       "      <td>0</td>\n",
       "      <td>40</td>\n",
       "      <td>38</td>\n",
       "      <td>0</td>\n",
       "    </tr>\n",
       "    <tr>\n",
       "      <th>1</th>\n",
       "      <td>50</td>\n",
       "      <td>4</td>\n",
       "      <td>83311</td>\n",
       "      <td>9</td>\n",
       "      <td>13</td>\n",
       "      <td>2</td>\n",
       "      <td>3</td>\n",
       "      <td>0</td>\n",
       "      <td>4</td>\n",
       "      <td>1</td>\n",
       "      <td>0</td>\n",
       "      <td>0</td>\n",
       "      <td>13</td>\n",
       "      <td>38</td>\n",
       "      <td>0</td>\n",
       "    </tr>\n",
       "    <tr>\n",
       "      <th>2</th>\n",
       "      <td>38</td>\n",
       "      <td>2</td>\n",
       "      <td>215646</td>\n",
       "      <td>11</td>\n",
       "      <td>9</td>\n",
       "      <td>0</td>\n",
       "      <td>5</td>\n",
       "      <td>1</td>\n",
       "      <td>4</td>\n",
       "      <td>1</td>\n",
       "      <td>0</td>\n",
       "      <td>0</td>\n",
       "      <td>40</td>\n",
       "      <td>38</td>\n",
       "      <td>0</td>\n",
       "    </tr>\n",
       "    <tr>\n",
       "      <th>3</th>\n",
       "      <td>53</td>\n",
       "      <td>2</td>\n",
       "      <td>234721</td>\n",
       "      <td>1</td>\n",
       "      <td>7</td>\n",
       "      <td>2</td>\n",
       "      <td>5</td>\n",
       "      <td>0</td>\n",
       "      <td>2</td>\n",
       "      <td>1</td>\n",
       "      <td>0</td>\n",
       "      <td>0</td>\n",
       "      <td>40</td>\n",
       "      <td>38</td>\n",
       "      <td>0</td>\n",
       "    </tr>\n",
       "    <tr>\n",
       "      <th>4</th>\n",
       "      <td>28</td>\n",
       "      <td>2</td>\n",
       "      <td>338409</td>\n",
       "      <td>9</td>\n",
       "      <td>13</td>\n",
       "      <td>2</td>\n",
       "      <td>9</td>\n",
       "      <td>5</td>\n",
       "      <td>2</td>\n",
       "      <td>0</td>\n",
       "      <td>0</td>\n",
       "      <td>0</td>\n",
       "      <td>40</td>\n",
       "      <td>4</td>\n",
       "      <td>0</td>\n",
       "    </tr>\n",
       "  </tbody>\n",
       "</table>\n",
       "</div>"
      ],
      "text/plain": [
       "   age  workclass  fnlwgt  education  education_num  marital_status  \\\n",
       "0   39          5   77516          9             13               4   \n",
       "1   50          4   83311          9             13               2   \n",
       "2   38          2  215646         11              9               0   \n",
       "3   53          2  234721          1              7               2   \n",
       "4   28          2  338409          9             13               2   \n",
       "\n",
       "   occupation  relationship  race  sex  capital_gain  capital_loss  \\\n",
       "0           0             1     4    1          2174             0   \n",
       "1           3             0     4    1             0             0   \n",
       "2           5             1     4    1             0             0   \n",
       "3           5             0     2    1             0             0   \n",
       "4           9             5     2    0             0             0   \n",
       "\n",
       "   hours_per_week  native_country  wage_class  \n",
       "0              40              38           0  \n",
       "1              13              38           0  \n",
       "2              40              38           0  \n",
       "3              40              38           0  \n",
       "4              40               4           0  "
      ]
     },
     "execution_count": 22,
     "metadata": {},
     "output_type": "execute_result"
    }
   ],
   "source": [
    "combined_set.head()"
   ]
  },
  {
   "cell_type": "code",
   "execution_count": 23,
   "metadata": {},
   "outputs": [
    {
     "data": {
      "text/html": [
       "<div>\n",
       "<style scoped>\n",
       "    .dataframe tbody tr th:only-of-type {\n",
       "        vertical-align: middle;\n",
       "    }\n",
       "\n",
       "    .dataframe tbody tr th {\n",
       "        vertical-align: top;\n",
       "    }\n",
       "\n",
       "    .dataframe thead th {\n",
       "        text-align: right;\n",
       "    }\n",
       "</style>\n",
       "<table border=\"1\" class=\"dataframe\">\n",
       "  <thead>\n",
       "    <tr style=\"text-align: right;\">\n",
       "      <th></th>\n",
       "      <th>age</th>\n",
       "      <th>workclass</th>\n",
       "      <th>fnlwgt</th>\n",
       "      <th>education</th>\n",
       "      <th>education_num</th>\n",
       "      <th>marital_status</th>\n",
       "      <th>occupation</th>\n",
       "      <th>relationship</th>\n",
       "      <th>race</th>\n",
       "      <th>sex</th>\n",
       "      <th>capital_gain</th>\n",
       "      <th>capital_loss</th>\n",
       "      <th>hours_per_week</th>\n",
       "      <th>native_country</th>\n",
       "    </tr>\n",
       "  </thead>\n",
       "  <tbody>\n",
       "    <tr>\n",
       "      <th>0</th>\n",
       "      <td>39</td>\n",
       "      <td>5</td>\n",
       "      <td>77516</td>\n",
       "      <td>9</td>\n",
       "      <td>13</td>\n",
       "      <td>4</td>\n",
       "      <td>0</td>\n",
       "      <td>1</td>\n",
       "      <td>4</td>\n",
       "      <td>1</td>\n",
       "      <td>2174</td>\n",
       "      <td>0</td>\n",
       "      <td>40</td>\n",
       "      <td>38</td>\n",
       "    </tr>\n",
       "    <tr>\n",
       "      <th>1</th>\n",
       "      <td>50</td>\n",
       "      <td>4</td>\n",
       "      <td>83311</td>\n",
       "      <td>9</td>\n",
       "      <td>13</td>\n",
       "      <td>2</td>\n",
       "      <td>3</td>\n",
       "      <td>0</td>\n",
       "      <td>4</td>\n",
       "      <td>1</td>\n",
       "      <td>0</td>\n",
       "      <td>0</td>\n",
       "      <td>13</td>\n",
       "      <td>38</td>\n",
       "    </tr>\n",
       "    <tr>\n",
       "      <th>2</th>\n",
       "      <td>38</td>\n",
       "      <td>2</td>\n",
       "      <td>215646</td>\n",
       "      <td>11</td>\n",
       "      <td>9</td>\n",
       "      <td>0</td>\n",
       "      <td>5</td>\n",
       "      <td>1</td>\n",
       "      <td>4</td>\n",
       "      <td>1</td>\n",
       "      <td>0</td>\n",
       "      <td>0</td>\n",
       "      <td>40</td>\n",
       "      <td>38</td>\n",
       "    </tr>\n",
       "    <tr>\n",
       "      <th>3</th>\n",
       "      <td>53</td>\n",
       "      <td>2</td>\n",
       "      <td>234721</td>\n",
       "      <td>1</td>\n",
       "      <td>7</td>\n",
       "      <td>2</td>\n",
       "      <td>5</td>\n",
       "      <td>0</td>\n",
       "      <td>2</td>\n",
       "      <td>1</td>\n",
       "      <td>0</td>\n",
       "      <td>0</td>\n",
       "      <td>40</td>\n",
       "      <td>38</td>\n",
       "    </tr>\n",
       "    <tr>\n",
       "      <th>4</th>\n",
       "      <td>28</td>\n",
       "      <td>2</td>\n",
       "      <td>338409</td>\n",
       "      <td>9</td>\n",
       "      <td>13</td>\n",
       "      <td>2</td>\n",
       "      <td>9</td>\n",
       "      <td>5</td>\n",
       "      <td>2</td>\n",
       "      <td>0</td>\n",
       "      <td>0</td>\n",
       "      <td>0</td>\n",
       "      <td>40</td>\n",
       "      <td>4</td>\n",
       "    </tr>\n",
       "  </tbody>\n",
       "</table>\n",
       "</div>"
      ],
      "text/plain": [
       "   age  workclass  fnlwgt  education  education_num  marital_status  \\\n",
       "0   39          5   77516          9             13               4   \n",
       "1   50          4   83311          9             13               2   \n",
       "2   38          2  215646         11              9               0   \n",
       "3   53          2  234721          1              7               2   \n",
       "4   28          2  338409          9             13               2   \n",
       "\n",
       "   occupation  relationship  race  sex  capital_gain  capital_loss  \\\n",
       "0           0             1     4    1          2174             0   \n",
       "1           3             0     4    1             0             0   \n",
       "2           5             1     4    1             0             0   \n",
       "3           5             0     2    1             0             0   \n",
       "4           9             5     2    0             0             0   \n",
       "\n",
       "   hours_per_week  native_country  \n",
       "0              40              38  \n",
       "1              13              38  \n",
       "2              40              38  \n",
       "3              40              38  \n",
       "4              40               4  "
      ]
     },
     "execution_count": 23,
     "metadata": {},
     "output_type": "execute_result"
    }
   ],
   "source": [
    "# creation of X and Y variable\n",
    "x=combined_set.drop([\"wage_class\"],1)\n",
    "x.head()"
   ]
  },
  {
   "cell_type": "code",
   "execution_count": 24,
   "metadata": {},
   "outputs": [
    {
     "data": {
      "text/plain": [
       "0    0\n",
       "1    0\n",
       "2    0\n",
       "3    0\n",
       "4    0\n",
       "Name: wage_class, dtype: int8"
      ]
     },
     "execution_count": 24,
     "metadata": {},
     "output_type": "execute_result"
    }
   ],
   "source": [
    "y = combined_set[\"wage_class\"]\n",
    "y.head()"
   ]
  },
  {
   "cell_type": "code",
   "execution_count": 25,
   "metadata": {},
   "outputs": [
    {
     "data": {
      "text/plain": [
       "((31655, 14), (13567, 14), (31655,), (13567,))"
      ]
     },
     "execution_count": 25,
     "metadata": {},
     "output_type": "execute_result"
    }
   ],
   "source": [
    "x_train,x_test,y_train,y_test = train_test_split(x,y,test_size=0.30,random_state=150)\n",
    "x_train.shape ,x_test.shape, y_train.shape , y_test.shape"
   ]
  },
  {
   "cell_type": "code",
   "execution_count": 26,
   "metadata": {},
   "outputs": [
    {
     "data": {
      "text/plain": [
       "XGBClassifier(base_score=0.5, booster=None, colsample_bylevel=1,\n",
       "       colsample_bynode=1, colsample_bytree=1, gamma=0, gpu_id=-1,\n",
       "       importance_type='gain', interaction_constraints=None,\n",
       "       learning_rate=0.300000012, max_delta_step=0, max_depth=6,\n",
       "       min_child_weight=1, missing=nan, monotone_constraints=None,\n",
       "       n_estimators=100, n_jobs=0, num_parallel_tree=1,\n",
       "       objective='binary:logistic', random_state=0, reg_alpha=0,\n",
       "       reg_lambda=1, scale_pos_weight=1, subsample=1, tree_method=None,\n",
       "       validate_parameters=False, verbosity=None)"
      ]
     },
     "execution_count": 26,
     "metadata": {},
     "output_type": "execute_result"
    }
   ],
   "source": [
    "model= XGBClassifier()\n",
    "model.fit(x_train,y_train)"
   ]
  },
  {
   "cell_type": "code",
   "execution_count": 27,
   "metadata": {},
   "outputs": [
    {
     "data": {
      "text/plain": [
       "array([1, 1, 1, ..., 0, 1, 0], dtype=int8)"
      ]
     },
     "execution_count": 27,
     "metadata": {},
     "output_type": "execute_result"
    }
   ],
   "source": [
    "y_pred = model.predict(x_test)\n",
    "y_pred"
   ]
  },
  {
   "cell_type": "code",
   "execution_count": 28,
   "metadata": {},
   "outputs": [
    {
     "data": {
      "text/plain": [
       "0.8696100832903368"
      ]
     },
     "execution_count": 28,
     "metadata": {},
     "output_type": "execute_result"
    }
   ],
   "source": [
    "accuracy = accuracy_score(y_test,y_pred)\n",
    "accuracy"
   ]
  },
  {
   "cell_type": "code",
   "execution_count": 29,
   "metadata": {},
   "outputs": [],
   "source": [
    "param_grid = {\n",
    "      'learning_rate':[1,0.5,0.1,0.01,0.001],\n",
    "       'max_depth': [3,5,10,20],\n",
    "       'n_estimators':[10,50,100,200]\n",
    "}"
   ]
  },
  {
   "cell_type": "code",
   "execution_count": 30,
   "metadata": {},
   "outputs": [],
   "source": [
    "from sklearn.model_selection import GridSearchCV\n",
    "grid= GridSearchCV(XGBClassifier(objective='binary:logistic'),param_grid, verbose=3)"
   ]
  },
  {
   "cell_type": "code",
   "execution_count": 31,
   "metadata": {},
   "outputs": [
    {
     "name": "stderr",
     "output_type": "stream",
     "text": [
      "C:\\Users\\Satya\\Anaconda3\\lib\\site-packages\\sklearn\\model_selection\\_split.py:2053: FutureWarning: You should specify a value for 'cv' instead of relying on the default value. The default value will change from 3 to 5 in version 0.22.\n",
      "  warnings.warn(CV_WARNING, FutureWarning)\n",
      "[Parallel(n_jobs=1)]: Using backend SequentialBackend with 1 concurrent workers.\n"
     ]
    },
    {
     "name": "stdout",
     "output_type": "stream",
     "text": [
      "Fitting 3 folds for each of 80 candidates, totalling 240 fits\n",
      "[CV] learning_rate=1, max_depth=3, n_estimators=10 ...................\n",
      "[CV]  learning_rate=1, max_depth=3, n_estimators=10, score=0.8606083578129442, total=   0.2s\n",
      "[CV] learning_rate=1, max_depth=3, n_estimators=10 ...................\n"
     ]
    },
    {
     "name": "stderr",
     "output_type": "stream",
     "text": [
      "[Parallel(n_jobs=1)]: Done   1 out of   1 | elapsed:    0.2s remaining:    0.0s\n"
     ]
    },
    {
     "name": "stdout",
     "output_type": "stream",
     "text": [
      "[CV]  learning_rate=1, max_depth=3, n_estimators=10, score=0.858117713960762, total=   0.1s\n",
      "[CV] learning_rate=1, max_depth=3, n_estimators=10 ...................\n"
     ]
    },
    {
     "name": "stderr",
     "output_type": "stream",
     "text": [
      "[Parallel(n_jobs=1)]: Done   2 out of   2 | elapsed:    0.5s remaining:    0.0s\n"
     ]
    },
    {
     "name": "stdout",
     "output_type": "stream",
     "text": [
      "[CV]  learning_rate=1, max_depth=3, n_estimators=10, score=0.85716993649891, total=   0.1s\n",
      "[CV] learning_rate=1, max_depth=3, n_estimators=50 ...................\n",
      "[CV]  learning_rate=1, max_depth=3, n_estimators=50, score=0.8609873969487349, total=   0.8s\n",
      "[CV] learning_rate=1, max_depth=3, n_estimators=50 ...................\n",
      "[CV]  learning_rate=1, max_depth=3, n_estimators=50, score=0.8640887119704294, total=   0.8s\n",
      "[CV] learning_rate=1, max_depth=3, n_estimators=50 ...................\n",
      "[CV]  learning_rate=1, max_depth=3, n_estimators=50, score=0.8620983793005402, total=   0.8s\n",
      "[CV] learning_rate=1, max_depth=3, n_estimators=100 ..................\n",
      "[CV]  learning_rate=1, max_depth=3, n_estimators=100, score=0.8601345588932057, total=   1.7s\n",
      "[CV] learning_rate=1, max_depth=3, n_estimators=100 ..................\n",
      "[CV]  learning_rate=1, max_depth=3, n_estimators=100, score=0.8653208226708369, total=   1.6s\n",
      "[CV] learning_rate=1, max_depth=3, n_estimators=100 ..................\n",
      "[CV]  learning_rate=1, max_depth=3, n_estimators=100, score=0.8580229362145768, total=   1.6s\n",
      "[CV] learning_rate=1, max_depth=3, n_estimators=200 ..................\n",
      "[CV]  learning_rate=1, max_depth=3, n_estimators=200, score=0.8540699327205534, total=   3.4s\n",
      "[CV] learning_rate=1, max_depth=3, n_estimators=200 ..................\n",
      "[CV]  learning_rate=1, max_depth=3, n_estimators=200, score=0.8596341578997252, total=   3.4s\n",
      "[CV] learning_rate=1, max_depth=3, n_estimators=200 ..................\n",
      "[CV]  learning_rate=1, max_depth=3, n_estimators=200, score=0.8563169367832433, total=   3.7s\n",
      "[CV] learning_rate=1, max_depth=5, n_estimators=10 ...................\n",
      "[CV]  learning_rate=1, max_depth=5, n_estimators=10, score=0.8640197100350612, total=   0.2s\n",
      "[CV] learning_rate=1, max_depth=5, n_estimators=10 ...................\n",
      "[CV]  learning_rate=1, max_depth=5, n_estimators=10, score=0.8645626007013554, total=   0.2s\n",
      "[CV] learning_rate=1, max_depth=5, n_estimators=10 ...................\n",
      "[CV]  learning_rate=1, max_depth=5, n_estimators=10, score=0.8627618235238366, total=   0.3s\n",
      "[CV] learning_rate=1, max_depth=5, n_estimators=50 ...................\n",
      "[CV]  learning_rate=1, max_depth=5, n_estimators=50, score=0.8554913294797688, total=   1.4s\n",
      "[CV] learning_rate=1, max_depth=5, n_estimators=50 ...................\n",
      "[CV]  learning_rate=1, max_depth=5, n_estimators=50, score=0.8564117145294284, total=   1.4s\n",
      "[CV] learning_rate=1, max_depth=5, n_estimators=50 ...................\n",
      "[CV]  learning_rate=1, max_depth=5, n_estimators=50, score=0.8548952705904653, total=   1.2s\n",
      "[CV] learning_rate=1, max_depth=5, n_estimators=100 ..................\n",
      "[CV]  learning_rate=1, max_depth=5, n_estimators=100, score=0.8505638207144888, total=   2.6s\n",
      "[CV] learning_rate=1, max_depth=5, n_estimators=100 ..................\n",
      "[CV]  learning_rate=1, max_depth=5, n_estimators=100, score=0.8499668277888351, total=   2.3s\n",
      "[CV] learning_rate=1, max_depth=5, n_estimators=100 ..................\n",
      "[CV]  learning_rate=1, max_depth=5, n_estimators=100, score=0.8488294948346128, total=   2.3s\n",
      "[CV] learning_rate=1, max_depth=5, n_estimators=200 ..................\n",
      "[CV]  learning_rate=1, max_depth=5, n_estimators=200, score=0.8448782336776273, total=   4.6s\n",
      "[CV] learning_rate=1, max_depth=5, n_estimators=200 ..................\n",
      "[CV]  learning_rate=1, max_depth=5, n_estimators=200, score=0.8447540517486494, total=   4.6s\n",
      "[CV] learning_rate=1, max_depth=5, n_estimators=200 ..................\n",
      "[CV]  learning_rate=1, max_depth=5, n_estimators=200, score=0.8457966069566866, total=   4.7s\n",
      "[CV] learning_rate=1, max_depth=10, n_estimators=10 ..................\n",
      "[CV]  learning_rate=1, max_depth=10, n_estimators=10, score=0.8453520325973657, total=   0.4s\n",
      "[CV] learning_rate=1, max_depth=10, n_estimators=10 ..................\n",
      "[CV]  learning_rate=1, max_depth=10, n_estimators=10, score=0.8527153824282059, total=   0.4s\n",
      "[CV] learning_rate=1, max_depth=10, n_estimators=10 ..................\n",
      "[CV]  learning_rate=1, max_depth=10, n_estimators=10, score=0.8534736043976874, total=   0.5s\n",
      "[CV] learning_rate=1, max_depth=10, n_estimators=50 ..................\n",
      "[CV]  learning_rate=1, max_depth=10, n_estimators=50, score=0.8376764900976026, total=   3.0s\n",
      "[CV] learning_rate=1, max_depth=10, n_estimators=50 ..................\n",
      "[CV]  learning_rate=1, max_depth=10, n_estimators=50, score=0.8420054971092787, total=   2.2s\n",
      "[CV] learning_rate=1, max_depth=10, n_estimators=50 ..................\n",
      "[CV]  learning_rate=1, max_depth=10, n_estimators=50, score=0.8395412757084637, total=   2.1s\n",
      "[CV] learning_rate=1, max_depth=10, n_estimators=100 .................\n",
      "[CV]  learning_rate=1, max_depth=10, n_estimators=100, score=0.8361603335544395, total=   4.3s\n",
      "[CV] learning_rate=1, max_depth=10, n_estimators=100 .................\n",
      "[CV]  learning_rate=1, max_depth=10, n_estimators=100, score=0.84020471993176, total=   4.5s\n",
      "[CV] learning_rate=1, max_depth=10, n_estimators=100 .................\n",
      "[CV]  learning_rate=1, max_depth=10, n_estimators=100, score=0.8395412757084637, total=   4.3s\n",
      "[CV] learning_rate=1, max_depth=10, n_estimators=200 .................\n",
      "[CV]  learning_rate=1, max_depth=10, n_estimators=200, score=0.8372974509618119, total=   8.4s\n",
      "[CV] learning_rate=1, max_depth=10, n_estimators=200 .................\n",
      "[CV]  learning_rate=1, max_depth=10, n_estimators=200, score=0.8421950526016492, total=   8.1s\n",
      "[CV] learning_rate=1, max_depth=10, n_estimators=200 .................\n",
      "[CV]  learning_rate=1, max_depth=10, n_estimators=200, score=0.8379300540233153, total=   8.3s\n",
      "[CV] learning_rate=1, max_depth=20, n_estimators=10 ..................\n",
      "[CV]  learning_rate=1, max_depth=20, n_estimators=10, score=0.8380555292333933, total=   0.8s\n",
      "[CV] learning_rate=1, max_depth=20, n_estimators=10 ..................\n",
      "[CV]  learning_rate=1, max_depth=20, n_estimators=10, score=0.8410577196474268, total=   0.8s\n",
      "[CV] learning_rate=1, max_depth=20, n_estimators=10 ..................\n",
      "[CV]  learning_rate=1, max_depth=20, n_estimators=10, score=0.8403942754241304, total=   0.8s\n",
      "[CV] learning_rate=1, max_depth=20, n_estimators=50 ..................\n",
      "[CV]  learning_rate=1, max_depth=20, n_estimators=50, score=0.8399507249123472, total=   3.7s\n",
      "[CV] learning_rate=1, max_depth=20, n_estimators=50 ..................\n",
      "[CV]  learning_rate=1, max_depth=20, n_estimators=50, score=0.8454174959719458, total=   3.7s\n",
      "[CV] learning_rate=1, max_depth=20, n_estimators=50 ..................\n",
      "[CV]  learning_rate=1, max_depth=20, n_estimators=50, score=0.8422898303478343, total=   4.8s\n",
      "[CV] learning_rate=1, max_depth=20, n_estimators=100 .................\n",
      "[CV]  learning_rate=1, max_depth=20, n_estimators=100, score=0.8395716857765564, total=   7.1s\n",
      "[CV] learning_rate=1, max_depth=20, n_estimators=100 .................\n",
      "[CV]  learning_rate=1, max_depth=20, n_estimators=100, score=0.8439010520329826, total=   7.0s\n",
      "[CV] learning_rate=1, max_depth=20, n_estimators=100 .................\n",
      "[CV]  learning_rate=1, max_depth=20, n_estimators=100, score=0.8422898303478343, total=   7.1s\n",
      "[CV] learning_rate=1, max_depth=20, n_estimators=200 .................\n",
      "[CV]  learning_rate=1, max_depth=20, n_estimators=200, score=0.835686534634701, total=  12.8s\n",
      "[CV] learning_rate=1, max_depth=20, n_estimators=200 .................\n",
      "[CV]  learning_rate=1, max_depth=20, n_estimators=200, score=0.8442801630177235, total=  13.0s\n",
      "[CV] learning_rate=1, max_depth=20, n_estimators=200 .................\n",
      "[CV]  learning_rate=1, max_depth=20, n_estimators=200, score=0.84020471993176, total=  14.1s\n",
      "[CV] learning_rate=0.5, max_depth=3, n_estimators=10 .................\n",
      "[CV]  learning_rate=0.5, max_depth=3, n_estimators=10, score=0.8507533402823841, total=   0.1s\n",
      "[CV] learning_rate=0.5, max_depth=3, n_estimators=10 .................\n",
      "[CV]  learning_rate=0.5, max_depth=3, n_estimators=10, score=0.8535683821438727, total=   0.2s\n",
      "[CV] learning_rate=0.5, max_depth=3, n_estimators=10 .................\n",
      "[CV]  learning_rate=0.5, max_depth=3, n_estimators=10, score=0.8569803810065396, total=   0.1s\n",
      "[CV] learning_rate=0.5, max_depth=3, n_estimators=50 .................\n",
      "[CV]  learning_rate=0.5, max_depth=3, n_estimators=50, score=0.8650620676584857, total=   0.8s\n",
      "[CV] learning_rate=0.5, max_depth=3, n_estimators=50 .................\n"
     ]
    },
    {
     "name": "stdout",
     "output_type": "stream",
     "text": [
      "[CV]  learning_rate=0.5, max_depth=3, n_estimators=50, score=0.8671215998483556, total=   0.8s\n",
      "[CV] learning_rate=0.5, max_depth=3, n_estimators=50 .................\n",
      "[CV]  learning_rate=0.5, max_depth=3, n_estimators=50, score=0.8649417116860961, total=   0.8s\n",
      "[CV] learning_rate=0.5, max_depth=3, n_estimators=100 ................\n",
      "[CV]  learning_rate=0.5, max_depth=3, n_estimators=100, score=0.8651568274424334, total=   1.6s\n",
      "[CV] learning_rate=0.5, max_depth=3, n_estimators=100 ................\n",
      "[CV]  learning_rate=0.5, max_depth=3, n_estimators=100, score=0.8663633778788741, total=   1.6s\n",
      "[CV] learning_rate=0.5, max_depth=3, n_estimators=100 ................\n",
      "[CV]  learning_rate=0.5, max_depth=3, n_estimators=100, score=0.8648469339399109, total=   1.7s\n",
      "[CV] learning_rate=0.5, max_depth=3, n_estimators=200 ................\n",
      "[CV]  learning_rate=0.5, max_depth=3, n_estimators=200, score=0.8626930730597934, total=   3.3s\n",
      "[CV] learning_rate=0.5, max_depth=3, n_estimators=200 ................\n",
      "[CV]  learning_rate=0.5, max_depth=3, n_estimators=200, score=0.865889489147948, total=   3.3s\n",
      "[CV] learning_rate=0.5, max_depth=3, n_estimators=200 ................\n",
      "[CV]  learning_rate=0.5, max_depth=3, n_estimators=200, score=0.8650364894322813, total=   3.4s\n",
      "[CV] learning_rate=0.5, max_depth=5, n_estimators=10 .................\n",
      "[CV]  learning_rate=0.5, max_depth=5, n_estimators=10, score=0.8572917653747749, total=   0.2s\n",
      "[CV] learning_rate=0.5, max_depth=5, n_estimators=10 .................\n",
      "[CV]  learning_rate=0.5, max_depth=5, n_estimators=10, score=0.8628566012700218, total=   0.2s\n",
      "[CV] learning_rate=0.5, max_depth=5, n_estimators=10 .................\n",
      "[CV]  learning_rate=0.5, max_depth=5, n_estimators=10, score=0.8616244905696142, total=   0.2s\n",
      "[CV] learning_rate=0.5, max_depth=5, n_estimators=50 .................\n",
      "[CV]  learning_rate=0.5, max_depth=5, n_estimators=50, score=0.8643987491708519, total=   1.0s\n",
      "[CV] learning_rate=0.5, max_depth=5, n_estimators=50 .................\n",
      "[CV]  learning_rate=0.5, max_depth=5, n_estimators=50, score=0.865415600417022, total=   1.2s\n",
      "[CV] learning_rate=0.5, max_depth=5, n_estimators=50 .................\n",
      "[CV]  learning_rate=0.5, max_depth=5, n_estimators=50, score=0.8646573784475405, total=   1.2s\n",
      "[CV] learning_rate=0.5, max_depth=5, n_estimators=100 ................\n",
      "[CV]  learning_rate=0.5, max_depth=5, n_estimators=100, score=0.8611769165166303, total=   2.4s\n",
      "[CV] learning_rate=0.5, max_depth=5, n_estimators=100 ................\n",
      "[CV]  learning_rate=0.5, max_depth=5, n_estimators=100, score=0.8652260449246517, total=   2.5s\n",
      "[CV] learning_rate=0.5, max_depth=5, n_estimators=100 ................\n",
      "[CV]  learning_rate=0.5, max_depth=5, n_estimators=100, score=0.8638043787318738, total=   2.4s\n",
      "[CV] learning_rate=0.5, max_depth=5, n_estimators=200 ................\n",
      "[CV]  learning_rate=0.5, max_depth=5, n_estimators=200, score=0.8569127262389842, total=   4.8s\n",
      "[CV] learning_rate=0.5, max_depth=5, n_estimators=200 ................\n",
      "[CV]  learning_rate=0.5, max_depth=5, n_estimators=200, score=0.856127381290873, total=   4.9s\n",
      "[CV] learning_rate=0.5, max_depth=5, n_estimators=200 ................\n",
      "[CV]  learning_rate=0.5, max_depth=5, n_estimators=200, score=0.8591602691687992, total=   4.8s\n",
      "[CV] learning_rate=0.5, max_depth=10, n_estimators=10 ................\n",
      "[CV]  learning_rate=0.5, max_depth=10, n_estimators=10, score=0.8615559556524212, total=   0.5s\n",
      "[CV] learning_rate=0.5, max_depth=10, n_estimators=10 ................\n",
      "[CV]  learning_rate=0.5, max_depth=10, n_estimators=10, score=0.8668372666098, total=   0.5s\n",
      "[CV] learning_rate=0.5, max_depth=10, n_estimators=10 ................\n",
      "[CV]  learning_rate=0.5, max_depth=10, n_estimators=10, score=0.8597289356459104, total=   0.4s\n",
      "[CV] learning_rate=0.5, max_depth=10, n_estimators=50 ................\n",
      "[CV]  learning_rate=0.5, max_depth=10, n_estimators=50, score=0.850184781578698, total=   2.1s\n",
      "[CV] learning_rate=0.5, max_depth=10, n_estimators=50 ................\n",
      "[CV]  learning_rate=0.5, max_depth=10, n_estimators=50, score=0.8598237133920955, total=   2.4s\n",
      "[CV] learning_rate=0.5, max_depth=10, n_estimators=50 ................\n",
      "[CV]  learning_rate=0.5, max_depth=10, n_estimators=50, score=0.8565064922756137, total=   3.0s\n",
      "[CV] learning_rate=0.5, max_depth=10, n_estimators=100 ...............\n",
      "[CV]  learning_rate=0.5, max_depth=10, n_estimators=100, score=0.844972993461575, total=   4.6s\n",
      "[CV] learning_rate=0.5, max_depth=10, n_estimators=100 ...............\n",
      "[CV]  learning_rate=0.5, max_depth=10, n_estimators=100, score=0.8519571604587243, total=   4.3s\n",
      "[CV] learning_rate=0.5, max_depth=10, n_estimators=100 ...............\n",
      "[CV]  learning_rate=0.5, max_depth=10, n_estimators=100, score=0.8521467159510947, total=   4.3s\n",
      "[CV] learning_rate=0.5, max_depth=10, n_estimators=200 ...............\n",
      "[CV]  learning_rate=0.5, max_depth=10, n_estimators=200, score=0.843077797782621, total=   8.5s\n",
      "[CV] learning_rate=0.5, max_depth=10, n_estimators=200 ...............\n",
      "[CV]  learning_rate=0.5, max_depth=10, n_estimators=200, score=0.8463652734337977, total=   8.5s\n",
      "[CV] learning_rate=0.5, max_depth=10, n_estimators=200 ...............\n",
      "[CV]  learning_rate=0.5, max_depth=10, n_estimators=200, score=0.8497772722964648, total=   8.5s\n",
      "[CV] learning_rate=0.5, max_depth=20, n_estimators=10 ................\n",
      "[CV]  learning_rate=0.5, max_depth=20, n_estimators=10, score=0.8490476641713257, total=   1.2s\n",
      "[CV] learning_rate=0.5, max_depth=20, n_estimators=10 ................\n",
      "[CV]  learning_rate=0.5, max_depth=20, n_estimators=10, score=0.8521467159510947, total=   0.9s\n",
      "[CV] learning_rate=0.5, max_depth=20, n_estimators=10 ................\n",
      "[CV]  learning_rate=0.5, max_depth=20, n_estimators=10, score=0.8536631598900578, total=   1.0s\n",
      "[CV] learning_rate=0.5, max_depth=20, n_estimators=50 ................\n",
      "[CV]  learning_rate=0.5, max_depth=20, n_estimators=50, score=0.8466786695726334, total=   4.1s\n",
      "[CV] learning_rate=0.5, max_depth=20, n_estimators=50 ................\n",
      "[CV]  learning_rate=0.5, max_depth=20, n_estimators=50, score=0.8466496066723533, total=   4.1s\n",
      "[CV] learning_rate=0.5, max_depth=20, n_estimators=50 ................\n",
      "[CV]  learning_rate=0.5, max_depth=20, n_estimators=50, score=0.847976495118946, total=   4.2s\n",
      "[CV] learning_rate=0.5, max_depth=20, n_estimators=100 ...............\n",
      "[CV]  learning_rate=0.5, max_depth=20, n_estimators=100, score=0.8460153510849995, total=   8.6s\n",
      "[CV] learning_rate=0.5, max_depth=20, n_estimators=100 ...............\n",
      "[CV]  learning_rate=0.5, max_depth=20, n_estimators=100, score=0.8485451615960572, total=   7.8s\n",
      "[CV] learning_rate=0.5, max_depth=20, n_estimators=100 ...............\n",
      "[CV]  learning_rate=0.5, max_depth=20, n_estimators=100, score=0.8461757179414273, total=   7.7s\n",
      "[CV] learning_rate=0.5, max_depth=20, n_estimators=200 ...............\n",
      "[CV]  learning_rate=0.5, max_depth=20, n_estimators=200, score=0.8444044347578887, total=  14.9s\n",
      "[CV] learning_rate=0.5, max_depth=20, n_estimators=200 ...............\n",
      "[CV]  learning_rate=0.5, max_depth=20, n_estimators=200, score=0.8451331627333902, total=  14.8s\n",
      "[CV] learning_rate=0.5, max_depth=20, n_estimators=200 ...............\n",
      "[CV]  learning_rate=0.5, max_depth=20, n_estimators=200, score=0.8439958297791679, total=  19.5s\n",
      "[CV] learning_rate=0.1, max_depth=3, n_estimators=10 .................\n",
      "[CV]  learning_rate=0.1, max_depth=3, n_estimators=10, score=0.8340756183075902, total=   0.3s\n",
      "[CV] learning_rate=0.1, max_depth=3, n_estimators=10 .................\n",
      "[CV]  learning_rate=0.1, max_depth=3, n_estimators=10, score=0.8433323855558715, total=   0.2s\n",
      "[CV] learning_rate=0.1, max_depth=3, n_estimators=10 .................\n",
      "[CV]  learning_rate=0.1, max_depth=3, n_estimators=10, score=0.8381196095156858, total=   0.2s\n",
      "[CV] learning_rate=0.1, max_depth=3, n_estimators=50 .................\n",
      "[CV]  learning_rate=0.1, max_depth=3, n_estimators=50, score=0.8502795413626457, total=   1.1s\n",
      "[CV] learning_rate=0.1, max_depth=3, n_estimators=50 .................\n",
      "[CV]  learning_rate=0.1, max_depth=3, n_estimators=50, score=0.8514832717277984, total=   0.9s\n",
      "[CV] learning_rate=0.1, max_depth=3, n_estimators=50 .................\n",
      "[CV]  learning_rate=0.1, max_depth=3, n_estimators=50, score=0.847976495118946, total=   0.8s\n",
      "[CV] learning_rate=0.1, max_depth=3, n_estimators=100 ................\n"
     ]
    },
    {
     "name": "stdout",
     "output_type": "stream",
     "text": [
      "[CV]  learning_rate=0.1, max_depth=3, n_estimators=100, score=0.858807921917938, total=   1.7s\n",
      "[CV] learning_rate=0.1, max_depth=3, n_estimators=100 ................\n",
      "[CV]  learning_rate=0.1, max_depth=3, n_estimators=100, score=0.8612453795848735, total=   1.8s\n",
      "[CV] learning_rate=0.1, max_depth=3, n_estimators=100 ................\n",
      "[CV]  learning_rate=0.1, max_depth=3, n_estimators=100, score=0.8597289356459104, total=   1.8s\n",
      "[CV] learning_rate=0.1, max_depth=3, n_estimators=200 ................\n",
      "[CV]  learning_rate=0.1, max_depth=3, n_estimators=200, score=0.8661044252819103, total=   3.6s\n",
      "[CV] learning_rate=0.1, max_depth=3, n_estimators=200 ................\n",
      "[CV]  learning_rate=0.1, max_depth=3, n_estimators=200, score=0.8649417116860961, total=   3.6s\n",
      "[CV] learning_rate=0.1, max_depth=3, n_estimators=200 ................\n",
      "[CV]  learning_rate=0.1, max_depth=3, n_estimators=200, score=0.8656051559093925, total=   3.7s\n",
      "[CV] learning_rate=0.1, max_depth=5, n_estimators=10 .................\n",
      "[CV]  learning_rate=0.1, max_depth=5, n_estimators=10, score=0.848668625035535, total=   0.3s\n",
      "[CV] learning_rate=0.1, max_depth=5, n_estimators=10 .................\n",
      "[CV]  learning_rate=0.1, max_depth=5, n_estimators=10, score=0.8505354942659463, total=   0.2s\n",
      "[CV] learning_rate=0.1, max_depth=5, n_estimators=10 .................\n",
      "[CV]  learning_rate=0.1, max_depth=5, n_estimators=10, score=0.8502511610273907, total=   0.2s\n",
      "[CV] learning_rate=0.1, max_depth=5, n_estimators=50 .................\n",
      "[CV]  learning_rate=0.1, max_depth=5, n_estimators=50, score=0.8594712404055719, total=   1.2s\n",
      "[CV] learning_rate=0.1, max_depth=5, n_estimators=50 .................\n",
      "[CV]  learning_rate=0.1, max_depth=5, n_estimators=50, score=0.8611506018386883, total=   1.2s\n",
      "[CV] learning_rate=0.1, max_depth=5, n_estimators=50 .................\n",
      "[CV]  learning_rate=0.1, max_depth=5, n_estimators=50, score=0.8601080466306511, total=   1.2s\n",
      "[CV] learning_rate=0.1, max_depth=5, n_estimators=100 ................\n",
      "[CV]  learning_rate=0.1, max_depth=5, n_estimators=100, score=0.8657253861461196, total=   2.5s\n",
      "[CV] learning_rate=0.1, max_depth=5, n_estimators=100 ................\n",
      "[CV]  learning_rate=0.1, max_depth=5, n_estimators=100, score=0.8688275992796891, total=   2.4s\n",
      "[CV] learning_rate=0.1, max_depth=5, n_estimators=100 ................\n",
      "[CV]  learning_rate=0.1, max_depth=5, n_estimators=100, score=0.8682589328025779, total=   2.4s\n",
      "[CV] learning_rate=0.1, max_depth=5, n_estimators=200 ................\n",
      "[CV]  learning_rate=0.1, max_depth=5, n_estimators=200, score=0.8642092296029565, total=   4.8s\n",
      "[CV] learning_rate=0.1, max_depth=5, n_estimators=200 ................\n",
      "[CV]  learning_rate=0.1, max_depth=5, n_estimators=200, score=0.8688275992796891, total=   5.8s\n",
      "[CV] learning_rate=0.1, max_depth=5, n_estimators=200 ................\n",
      "[CV]  learning_rate=0.1, max_depth=5, n_estimators=200, score=0.8696805989953559, total=   5.3s\n",
      "[CV] learning_rate=0.1, max_depth=10, n_estimators=10 ................\n",
      "[CV]  learning_rate=0.1, max_depth=10, n_estimators=10, score=0.8553018099118734, total=   0.5s\n",
      "[CV] learning_rate=0.1, max_depth=10, n_estimators=10 ................\n",
      "[CV]  learning_rate=0.1, max_depth=10, n_estimators=10, score=0.8563169367832433, total=   0.5s\n",
      "[CV] learning_rate=0.1, max_depth=10, n_estimators=10 ................\n",
      "[CV]  learning_rate=0.1, max_depth=10, n_estimators=10, score=0.8529997156667615, total=   0.4s\n",
      "[CV] learning_rate=0.1, max_depth=10, n_estimators=50 ................\n",
      "[CV]  learning_rate=0.1, max_depth=10, n_estimators=50, score=0.863735430683218, total=   2.2s\n",
      "[CV] learning_rate=0.1, max_depth=10, n_estimators=50 ................\n",
      "[CV]  learning_rate=0.1, max_depth=10, n_estimators=50, score=0.8656051559093925, total=   2.2s\n",
      "[CV] learning_rate=0.1, max_depth=10, n_estimators=50 ................\n",
      "[CV]  learning_rate=0.1, max_depth=10, n_estimators=50, score=0.8641834897166145, total=   2.3s\n",
      "[CV] learning_rate=0.1, max_depth=10, n_estimators=100 ...............\n",
      "[CV]  learning_rate=0.1, max_depth=10, n_estimators=100, score=0.863451151331375, total=   4.4s\n",
      "[CV] learning_rate=0.1, max_depth=10, n_estimators=100 ...............\n",
      "[CV]  learning_rate=0.1, max_depth=10, n_estimators=100, score=0.8669320443559853, total=   4.4s\n",
      "[CV] learning_rate=0.1, max_depth=10, n_estimators=100 ...............\n",
      "[CV]  learning_rate=0.1, max_depth=10, n_estimators=100, score=0.8636148232395033, total=   4.5s\n",
      "[CV] learning_rate=0.1, max_depth=10, n_estimators=200 ...............\n",
      "[CV]  learning_rate=0.1, max_depth=10, n_estimators=200, score=0.8632616317634796, total=   9.3s\n",
      "[CV] learning_rate=0.1, max_depth=10, n_estimators=200 ...............\n",
      "[CV]  learning_rate=0.1, max_depth=10, n_estimators=200, score=0.8635200454933182, total=   8.6s\n",
      "[CV] learning_rate=0.1, max_depth=10, n_estimators=200 ...............\n",
      "[CV]  learning_rate=0.1, max_depth=10, n_estimators=200, score=0.863425267747133, total=  10.1s\n",
      "[CV] learning_rate=0.1, max_depth=20, n_estimators=10 ................\n",
      "[CV]  learning_rate=0.1, max_depth=20, n_estimators=10, score=0.847721027196058, total=   1.2s\n",
      "[CV] learning_rate=0.1, max_depth=20, n_estimators=10 ................\n",
      "[CV]  learning_rate=0.1, max_depth=20, n_estimators=10, score=0.8480712728651313, total=   1.2s\n",
      "[CV] learning_rate=0.1, max_depth=20, n_estimators=10 ................\n",
      "[CV]  learning_rate=0.1, max_depth=20, n_estimators=10, score=0.8511989384892428, total=   1.1s\n",
      "[CV] learning_rate=0.1, max_depth=20, n_estimators=50 ................\n",
      "[CV]  learning_rate=0.1, max_depth=20, n_estimators=50, score=0.8563441675352981, total=   4.8s\n",
      "[CV] learning_rate=0.1, max_depth=20, n_estimators=50 ................\n",
      "[CV]  learning_rate=0.1, max_depth=20, n_estimators=50, score=0.8579281584683917, total=   4.2s\n",
      "[CV] learning_rate=0.1, max_depth=20, n_estimators=50 ................\n",
      "[CV]  learning_rate=0.1, max_depth=20, n_estimators=50, score=0.8577386029760212, total=   4.2s\n",
      "[CV] learning_rate=0.1, max_depth=20, n_estimators=100 ...............\n",
      "[CV]  learning_rate=0.1, max_depth=20, n_estimators=100, score=0.8553965696958211, total=   8.8s\n",
      "[CV] learning_rate=0.1, max_depth=20, n_estimators=100 ...............\n",
      "[CV]  learning_rate=0.1, max_depth=20, n_estimators=100, score=0.8598237133920955, total=   9.3s\n",
      "[CV] learning_rate=0.1, max_depth=20, n_estimators=100 ...............\n",
      "[CV]  learning_rate=0.1, max_depth=20, n_estimators=100, score=0.8586863804378732, total=   8.1s\n",
      "[CV] learning_rate=0.1, max_depth=20, n_estimators=200 ...............\n",
      "[CV]  learning_rate=0.1, max_depth=20, n_estimators=200, score=0.8510376196342272, total=  17.0s\n",
      "[CV] learning_rate=0.1, max_depth=20, n_estimators=200 ...............\n",
      "[CV]  learning_rate=0.1, max_depth=20, n_estimators=200, score=0.8597289356459104, total=  16.3s\n",
      "[CV] learning_rate=0.1, max_depth=20, n_estimators=200 ...............\n",
      "[CV]  learning_rate=0.1, max_depth=20, n_estimators=200, score=0.853757937636243, total=  15.9s\n",
      "[CV] learning_rate=0.01, max_depth=3, n_estimators=10 ................\n",
      "[CV]  learning_rate=0.01, max_depth=3, n_estimators=10, score=0.8321804226286365, total=   0.1s\n",
      "[CV] learning_rate=0.01, max_depth=3, n_estimators=10 ................\n",
      "[CV]  learning_rate=0.01, max_depth=3, n_estimators=10, score=0.8342337219220927, total=   0.2s\n",
      "[CV] learning_rate=0.01, max_depth=3, n_estimators=10 ................\n",
      "[CV]  learning_rate=0.01, max_depth=3, n_estimators=10, score=0.8337598331911668, total=   0.2s\n",
      "[CV] learning_rate=0.01, max_depth=3, n_estimators=50 ................\n",
      "[CV]  learning_rate=0.01, max_depth=3, n_estimators=50, score=0.8328437411162702, total=   0.8s\n",
      "[CV] learning_rate=0.01, max_depth=3, n_estimators=50 ................\n",
      "[CV]  learning_rate=0.01, max_depth=3, n_estimators=50, score=0.8359397213534262, total=   0.8s\n",
      "[CV] learning_rate=0.01, max_depth=3, n_estimators=50 ................\n",
      "[CV]  learning_rate=0.01, max_depth=3, n_estimators=50, score=0.8337598331911668, total=   0.8s\n",
      "[CV] learning_rate=0.01, max_depth=3, n_estimators=100 ...............\n",
      "[CV]  learning_rate=0.01, max_depth=3, n_estimators=100, score=0.8340756183075902, total=   1.6s\n",
      "[CV] learning_rate=0.01, max_depth=3, n_estimators=100 ...............\n",
      "[CV]  learning_rate=0.01, max_depth=3, n_estimators=100, score=0.8364136100843522, total=   1.7s\n",
      "[CV] learning_rate=0.01, max_depth=3, n_estimators=100 ...............\n"
     ]
    },
    {
     "name": "stdout",
     "output_type": "stream",
     "text": [
      "[CV]  learning_rate=0.01, max_depth=3, n_estimators=100, score=0.8384987205004265, total=   1.7s\n",
      "[CV] learning_rate=0.01, max_depth=3, n_estimators=200 ...............\n",
      "[CV]  learning_rate=0.01, max_depth=3, n_estimators=200, score=0.8398559651283996, total=   3.2s\n",
      "[CV] learning_rate=0.01, max_depth=3, n_estimators=200 ...............\n",
      "[CV]  learning_rate=0.01, max_depth=3, n_estimators=200, score=0.8430480523173159, total=   3.3s\n",
      "[CV] learning_rate=0.01, max_depth=3, n_estimators=200 ...............\n",
      "[CV]  learning_rate=0.01, max_depth=3, n_estimators=200, score=0.8412472751397971, total=   3.3s\n",
      "[CV] learning_rate=0.01, max_depth=5, n_estimators=10 ................\n",
      "[CV]  learning_rate=0.01, max_depth=5, n_estimators=10, score=0.8467734293565811, total=   0.2s\n",
      "[CV] learning_rate=0.01, max_depth=5, n_estimators=10 ................\n",
      "[CV]  learning_rate=0.01, max_depth=5, n_estimators=10, score=0.849398161311724, total=   0.2s\n",
      "[CV] learning_rate=0.01, max_depth=5, n_estimators=10 ................\n",
      "[CV]  learning_rate=0.01, max_depth=5, n_estimators=10, score=0.8472182731494645, total=   0.2s\n",
      "[CV] learning_rate=0.01, max_depth=5, n_estimators=50 ................\n",
      "[CV]  learning_rate=0.01, max_depth=5, n_estimators=50, score=0.848668625035535, total=   1.1s\n",
      "[CV] learning_rate=0.01, max_depth=5, n_estimators=50 ................\n",
      "[CV]  learning_rate=0.01, max_depth=5, n_estimators=50, score=0.8502511610273907, total=   1.2s\n",
      "[CV] learning_rate=0.01, max_depth=5, n_estimators=50 ................\n",
      "[CV]  learning_rate=0.01, max_depth=5, n_estimators=50, score=0.8491138280731684, total=   1.5s\n",
      "[CV] learning_rate=0.01, max_depth=5, n_estimators=100 ...............\n",
      "[CV]  learning_rate=0.01, max_depth=5, n_estimators=100, score=0.848668625035535, total=   3.2s\n",
      "[CV] learning_rate=0.01, max_depth=5, n_estimators=100 ...............\n",
      "[CV]  learning_rate=0.01, max_depth=5, n_estimators=100, score=0.8507250497583168, total=   2.5s\n",
      "[CV] learning_rate=0.01, max_depth=5, n_estimators=100 ...............\n",
      "[CV]  learning_rate=0.01, max_depth=5, n_estimators=100, score=0.8502511610273907, total=   2.3s\n",
      "[CV] learning_rate=0.01, max_depth=5, n_estimators=200 ...............\n",
      "[CV]  learning_rate=0.01, max_depth=5, n_estimators=200, score=0.8504690609305411, total=   4.8s\n",
      "[CV] learning_rate=0.01, max_depth=5, n_estimators=200 ...............\n",
      "[CV]  learning_rate=0.01, max_depth=5, n_estimators=200, score=0.8525258269358355, total=   4.7s\n",
      "[CV] learning_rate=0.01, max_depth=5, n_estimators=200 ...............\n",
      "[CV]  learning_rate=0.01, max_depth=5, n_estimators=200, score=0.8505354942659463, total=   4.8s\n",
      "[CV] learning_rate=0.01, max_depth=10, n_estimators=10 ...............\n",
      "[CV]  learning_rate=0.01, max_depth=10, n_estimators=10, score=0.8496162228750118, total=   0.5s\n",
      "[CV] learning_rate=0.01, max_depth=10, n_estimators=10 ...............\n",
      "[CV]  learning_rate=0.01, max_depth=10, n_estimators=10, score=0.852336271443465, total=   0.4s\n",
      "[CV] learning_rate=0.01, max_depth=10, n_estimators=10 ...............\n",
      "[CV]  learning_rate=0.01, max_depth=10, n_estimators=10, score=0.8516728272201687, total=   0.4s\n",
      "[CV] learning_rate=0.01, max_depth=10, n_estimators=50 ...............\n",
      "[CV]  learning_rate=0.01, max_depth=10, n_estimators=50, score=0.8537856533687104, total=   2.5s\n",
      "[CV] learning_rate=0.01, max_depth=10, n_estimators=50 ...............\n",
      "[CV]  learning_rate=0.01, max_depth=10, n_estimators=50, score=0.8560326035446877, total=   2.3s\n",
      "[CV] learning_rate=0.01, max_depth=10, n_estimators=50 ...............\n",
      "[CV]  learning_rate=0.01, max_depth=10, n_estimators=50, score=0.8532840489053171, total=   2.2s\n",
      "[CV] learning_rate=0.01, max_depth=10, n_estimators=100 ..............\n",
      "[CV]  learning_rate=0.01, max_depth=10, n_estimators=100, score=0.8543542120723965, total=   4.6s\n",
      "[CV] learning_rate=0.01, max_depth=10, n_estimators=100 ..............\n",
      "[CV]  learning_rate=0.01, max_depth=10, n_estimators=100, score=0.8578333807222064, total=   4.9s\n",
      "[CV] learning_rate=0.01, max_depth=10, n_estimators=100 ..............\n",
      "[CV]  learning_rate=0.01, max_depth=10, n_estimators=100, score=0.8548004928442802, total=   4.6s\n",
      "[CV] learning_rate=0.01, max_depth=10, n_estimators=200 ..............\n",
      "[CV]  learning_rate=0.01, max_depth=10, n_estimators=200, score=0.8591869610537288, total=  10.8s\n",
      "[CV] learning_rate=0.01, max_depth=10, n_estimators=200 ..............\n",
      "[CV]  learning_rate=0.01, max_depth=10, n_estimators=200, score=0.8609610463463179, total=  10.5s\n",
      "[CV] learning_rate=0.01, max_depth=10, n_estimators=200 ..............\n",
      "[CV]  learning_rate=0.01, max_depth=10, n_estimators=200, score=0.8588759359302436, total=   9.1s\n",
      "[CV] learning_rate=0.01, max_depth=20, n_estimators=10 ...............\n",
      "[CV]  learning_rate=0.01, max_depth=20, n_estimators=10, score=0.8360655737704918, total=   0.7s\n",
      "[CV] learning_rate=0.01, max_depth=20, n_estimators=10 ...............\n",
      "[CV]  learning_rate=0.01, max_depth=20, n_estimators=10, score=0.8417211638707232, total=   0.7s\n",
      "[CV] learning_rate=0.01, max_depth=20, n_estimators=10 ...............\n",
      "[CV]  learning_rate=0.01, max_depth=20, n_estimators=10, score=0.8408681641550564, total=   0.7s\n",
      "[CV] learning_rate=0.01, max_depth=20, n_estimators=50 ...............\n",
      "[CV]  learning_rate=0.01, max_depth=20, n_estimators=50, score=0.8459205913010518, total=   4.0s\n",
      "[CV] learning_rate=0.01, max_depth=20, n_estimators=50 ...............\n",
      "[CV]  learning_rate=0.01, max_depth=20, n_estimators=50, score=0.845038384987205, total=   3.9s\n",
      "[CV] learning_rate=0.01, max_depth=20, n_estimators=50 ...............\n",
      "[CV]  learning_rate=0.01, max_depth=20, n_estimators=50, score=0.8482608283575016, total=   3.9s\n",
      "[CV] learning_rate=0.01, max_depth=20, n_estimators=100 ..............\n",
      "[CV]  learning_rate=0.01, max_depth=20, n_estimators=100, score=0.8484791054676395, total=   8.0s\n",
      "[CV] learning_rate=0.01, max_depth=20, n_estimators=100 ..............\n",
      "[CV]  learning_rate=0.01, max_depth=20, n_estimators=100, score=0.8463652734337977, total=   8.1s\n",
      "[CV] learning_rate=0.01, max_depth=20, n_estimators=100 ..............\n",
      "[CV]  learning_rate=0.01, max_depth=20, n_estimators=100, score=0.8506302720121316, total=   8.2s\n",
      "[CV] learning_rate=0.01, max_depth=20, n_estimators=200 ..............\n",
      "[CV]  learning_rate=0.01, max_depth=20, n_estimators=200, score=0.852648535961338, total=  17.8s\n",
      "[CV] learning_rate=0.01, max_depth=20, n_estimators=200 ..............\n",
      "[CV]  learning_rate=0.01, max_depth=20, n_estimators=200, score=0.8527153824282059, total=  16.7s\n",
      "[CV] learning_rate=0.01, max_depth=20, n_estimators=200 ..............\n",
      "[CV]  learning_rate=0.01, max_depth=20, n_estimators=200, score=0.8527153824282059, total=  16.7s\n",
      "[CV] learning_rate=0.001, max_depth=3, n_estimators=10 ...............\n",
      "[CV]  learning_rate=0.001, max_depth=3, n_estimators=10, score=0.8321804226286365, total=   0.1s\n",
      "[CV] learning_rate=0.001, max_depth=3, n_estimators=10 ...............\n",
      "[CV]  learning_rate=0.001, max_depth=3, n_estimators=10, score=0.8342337219220927, total=   0.2s\n",
      "[CV] learning_rate=0.001, max_depth=3, n_estimators=10 ...............\n",
      "[CV]  learning_rate=0.001, max_depth=3, n_estimators=10, score=0.8337598331911668, total=   0.2s\n",
      "[CV] learning_rate=0.001, max_depth=3, n_estimators=50 ...............\n",
      "[CV]  learning_rate=0.001, max_depth=3, n_estimators=50, score=0.8321804226286365, total=   1.3s\n",
      "[CV] learning_rate=0.001, max_depth=3, n_estimators=50 ...............\n",
      "[CV]  learning_rate=0.001, max_depth=3, n_estimators=50, score=0.8342337219220927, total=   1.1s\n",
      "[CV] learning_rate=0.001, max_depth=3, n_estimators=50 ...............\n",
      "[CV]  learning_rate=0.001, max_depth=3, n_estimators=50, score=0.8337598331911668, total=   1.3s\n",
      "[CV] learning_rate=0.001, max_depth=3, n_estimators=100 ..............\n",
      "[CV]  learning_rate=0.001, max_depth=3, n_estimators=100, score=0.8321804226286365, total=   2.4s\n",
      "[CV] learning_rate=0.001, max_depth=3, n_estimators=100 ..............\n",
      "[CV]  learning_rate=0.001, max_depth=3, n_estimators=100, score=0.8342337219220927, total=   2.5s\n",
      "[CV] learning_rate=0.001, max_depth=3, n_estimators=100 ..............\n",
      "[CV]  learning_rate=0.001, max_depth=3, n_estimators=100, score=0.8337598331911668, total=   2.8s\n",
      "[CV] learning_rate=0.001, max_depth=3, n_estimators=200 ..............\n"
     ]
    },
    {
     "name": "stdout",
     "output_type": "stream",
     "text": [
      "[CV]  learning_rate=0.001, max_depth=3, n_estimators=200, score=0.8328437411162702, total=   4.7s\n",
      "[CV] learning_rate=0.001, max_depth=3, n_estimators=200 ..............\n",
      "[CV]  learning_rate=0.001, max_depth=3, n_estimators=200, score=0.8359397213534262, total=   3.6s\n",
      "[CV] learning_rate=0.001, max_depth=3, n_estimators=200 ..............\n",
      "[CV]  learning_rate=0.001, max_depth=3, n_estimators=200, score=0.8337598331911668, total=   3.7s\n",
      "[CV] learning_rate=0.001, max_depth=5, n_estimators=10 ...............\n",
      "[CV]  learning_rate=0.001, max_depth=5, n_estimators=10, score=0.8411826021036672, total=   0.3s\n",
      "[CV] learning_rate=0.001, max_depth=5, n_estimators=10 ...............\n",
      "[CV]  learning_rate=0.001, max_depth=5, n_estimators=10, score=0.8478817173727609, total=   0.2s\n",
      "[CV] learning_rate=0.001, max_depth=5, n_estimators=10 ...............\n",
      "[CV]  learning_rate=0.001, max_depth=5, n_estimators=10, score=0.8472182731494645, total=   0.2s\n",
      "[CV] learning_rate=0.001, max_depth=5, n_estimators=50 ...............\n",
      "[CV]  learning_rate=0.001, max_depth=5, n_estimators=50, score=0.841561641239458, total=   1.2s\n",
      "[CV] learning_rate=0.001, max_depth=5, n_estimators=50 ...............\n",
      "[CV]  learning_rate=0.001, max_depth=5, n_estimators=50, score=0.8475026063880201, total=   1.2s\n",
      "[CV] learning_rate=0.001, max_depth=5, n_estimators=50 ...............\n",
      "[CV]  learning_rate=0.001, max_depth=5, n_estimators=50, score=0.8472182731494645, total=   1.2s\n",
      "[CV] learning_rate=0.001, max_depth=5, n_estimators=100 ..............\n",
      "[CV]  learning_rate=0.001, max_depth=5, n_estimators=100, score=0.8467734293565811, total=   2.5s\n",
      "[CV] learning_rate=0.001, max_depth=5, n_estimators=100 ..............\n",
      "[CV]  learning_rate=0.001, max_depth=5, n_estimators=100, score=0.849398161311724, total=   2.8s\n",
      "[CV] learning_rate=0.001, max_depth=5, n_estimators=100 ..............\n",
      "[CV]  learning_rate=0.001, max_depth=5, n_estimators=100, score=0.8472182731494645, total=   2.7s\n",
      "[CV] learning_rate=0.001, max_depth=5, n_estimators=200 ..............\n",
      "[CV]  learning_rate=0.001, max_depth=5, n_estimators=200, score=0.8467734293565811, total=   5.3s\n",
      "[CV] learning_rate=0.001, max_depth=5, n_estimators=200 ..............\n",
      "[CV]  learning_rate=0.001, max_depth=5, n_estimators=200, score=0.8488294948346128, total=   5.2s\n",
      "[CV] learning_rate=0.001, max_depth=5, n_estimators=200 ..............\n",
      "[CV]  learning_rate=0.001, max_depth=5, n_estimators=200, score=0.8496824945502796, total=   5.4s\n",
      "[CV] learning_rate=0.001, max_depth=10, n_estimators=10 ..............\n",
      "[CV]  learning_rate=0.001, max_depth=10, n_estimators=10, score=0.8490476641713257, total=   0.5s\n",
      "[CV] learning_rate=0.001, max_depth=10, n_estimators=10 ..............\n",
      "[CV]  learning_rate=0.001, max_depth=10, n_estimators=10, score=0.8506302720121316, total=   0.5s\n",
      "[CV] learning_rate=0.001, max_depth=10, n_estimators=10 ..............\n",
      "[CV]  learning_rate=0.001, max_depth=10, n_estimators=10, score=0.8475973841342053, total=   0.5s\n",
      "[CV] learning_rate=0.001, max_depth=10, n_estimators=50 ..............\n",
      "[CV]  learning_rate=0.001, max_depth=10, n_estimators=50, score=0.8502795413626457, total=   2.5s\n",
      "[CV] learning_rate=0.001, max_depth=10, n_estimators=50 ..............\n",
      "[CV]  learning_rate=0.001, max_depth=10, n_estimators=50, score=0.8506302720121316, total=   2.4s\n",
      "[CV] learning_rate=0.001, max_depth=10, n_estimators=50 ..............\n",
      "[CV]  learning_rate=0.001, max_depth=10, n_estimators=50, score=0.8496824945502796, total=   2.4s\n",
      "[CV] learning_rate=0.001, max_depth=10, n_estimators=100 .............\n",
      "[CV]  learning_rate=0.001, max_depth=10, n_estimators=100, score=0.8488581446034303, total=   6.6s\n",
      "[CV] learning_rate=0.001, max_depth=10, n_estimators=100 .............\n",
      "[CV]  learning_rate=0.001, max_depth=10, n_estimators=100, score=0.8520519382049095, total=   5.4s\n",
      "[CV] learning_rate=0.001, max_depth=10, n_estimators=100 .............\n",
      "[CV]  learning_rate=0.001, max_depth=10, n_estimators=100, score=0.8502511610273907, total=   4.7s\n",
      "[CV] learning_rate=0.001, max_depth=10, n_estimators=200 .............\n",
      "[CV]  learning_rate=0.001, max_depth=10, n_estimators=200, score=0.8500900217947504, total=   9.3s\n",
      "[CV] learning_rate=0.001, max_depth=10, n_estimators=200 .............\n",
      "[CV]  learning_rate=0.001, max_depth=10, n_estimators=200, score=0.8525258269358355, total=   9.1s\n",
      "[CV] learning_rate=0.001, max_depth=10, n_estimators=200 .............\n",
      "[CV]  learning_rate=0.001, max_depth=10, n_estimators=200, score=0.8511989384892428, total=   9.1s\n",
      "[CV] learning_rate=0.001, max_depth=20, n_estimators=10 ..............\n",
      "[CV]  learning_rate=0.001, max_depth=20, n_estimators=10, score=0.8306642660854733, total=   0.8s\n",
      "[CV] learning_rate=0.001, max_depth=20, n_estimators=10 ..............\n",
      "[CV]  learning_rate=0.001, max_depth=20, n_estimators=10, score=0.8396360534546489, total=   0.7s\n",
      "[CV] learning_rate=0.001, max_depth=20, n_estimators=10 ..............\n",
      "[CV]  learning_rate=0.001, max_depth=20, n_estimators=10, score=0.8387830537389821, total=   0.7s\n",
      "[CV] learning_rate=0.001, max_depth=20, n_estimators=50 ..............\n",
      "[CV]  learning_rate=0.001, max_depth=20, n_estimators=50, score=0.8325594617644272, total=   3.7s\n",
      "[CV] learning_rate=0.001, max_depth=20, n_estimators=50 ..............\n",
      "[CV]  learning_rate=0.001, max_depth=20, n_estimators=50, score=0.8400151644393896, total=   3.8s\n",
      "[CV] learning_rate=0.001, max_depth=20, n_estimators=50 ..............\n",
      "[CV]  learning_rate=0.001, max_depth=20, n_estimators=50, score=0.8392569424699081, total=   4.2s\n",
      "[CV] learning_rate=0.001, max_depth=20, n_estimators=100 .............\n",
      "[CV]  learning_rate=0.001, max_depth=20, n_estimators=100, score=0.8365393726902303, total=   9.2s\n",
      "[CV] learning_rate=0.001, max_depth=20, n_estimators=100 .............\n",
      "[CV]  learning_rate=0.001, max_depth=20, n_estimators=100, score=0.8422898303478343, total=   8.6s\n",
      "[CV] learning_rate=0.001, max_depth=20, n_estimators=100 .............\n",
      "[CV]  learning_rate=0.001, max_depth=20, n_estimators=100, score=0.840678608662686, total=  10.0s\n",
      "[CV] learning_rate=0.001, max_depth=20, n_estimators=200 .............\n",
      "[CV]  learning_rate=0.001, max_depth=20, n_estimators=200, score=0.8420354401591964, total=  17.6s\n",
      "[CV] learning_rate=0.001, max_depth=20, n_estimators=200 .............\n",
      "[CV]  learning_rate=0.001, max_depth=20, n_estimators=200, score=0.844090607525353, total=  23.2s\n",
      "[CV] learning_rate=0.001, max_depth=20, n_estimators=200 .............\n",
      "[CV]  learning_rate=0.001, max_depth=20, n_estimators=200, score=0.8427637190787604, total=  20.6s\n"
     ]
    },
    {
     "name": "stderr",
     "output_type": "stream",
     "text": [
      "[Parallel(n_jobs=1)]: Done 240 out of 240 | elapsed: 16.3min finished\n"
     ]
    },
    {
     "data": {
      "text/plain": [
       "GridSearchCV(cv='warn', error_score='raise-deprecating',\n",
       "       estimator=XGBClassifier(base_score=None, booster=None, colsample_bylevel=None,\n",
       "       colsample_bynode=None, colsample_bytree=None, gamma=None,\n",
       "       gpu_id=None, importance_type='gain', interaction_constraints=None,\n",
       "       learning_rate=None, max_delta_step=None, max_depth=None,\n",
       "       min_child_w...pos_weight=None, subsample=None,\n",
       "       tree_method=None, validate_parameters=False, verbosity=None),\n",
       "       fit_params=None, iid='warn', n_jobs=None,\n",
       "       param_grid={'learning_rate': [1, 0.5, 0.1, 0.01, 0.001], 'max_depth': [3, 5, 10, 20], 'n_estimators': [10, 50, 100, 200]},\n",
       "       pre_dispatch='2*n_jobs', refit=True, return_train_score='warn',\n",
       "       scoring=None, verbose=3)"
      ]
     },
     "execution_count": 31,
     "metadata": {},
     "output_type": "execute_result"
    }
   ],
   "source": [
    "grid.fit(x_train,y_train)"
   ]
  },
  {
   "cell_type": "code",
   "execution_count": 32,
   "metadata": {},
   "outputs": [
    {
     "data": {
      "text/plain": [
       "{'learning_rate': 0.1, 'max_depth': 5, 'n_estimators': 100}"
      ]
     },
     "execution_count": 32,
     "metadata": {},
     "output_type": "execute_result"
    }
   ],
   "source": [
    "grid.best_params_"
   ]
  },
  {
   "cell_type": "code",
   "execution_count": 33,
   "metadata": {},
   "outputs": [],
   "source": [
    "new_model=XGBClassifier(learning_rate= 0.1, max_depth=20, n_estimators= 200)"
   ]
  },
  {
   "cell_type": "code",
   "execution_count": 34,
   "metadata": {},
   "outputs": [
    {
     "data": {
      "text/plain": [
       "XGBClassifier(base_score=0.5, booster=None, colsample_bylevel=1,\n",
       "       colsample_bynode=1, colsample_bytree=1, gamma=0, gpu_id=-1,\n",
       "       importance_type='gain', interaction_constraints=None,\n",
       "       learning_rate=0.1, max_delta_step=0, max_depth=20,\n",
       "       min_child_weight=1, missing=nan, monotone_constraints=None,\n",
       "       n_estimators=200, n_jobs=0, num_parallel_tree=1,\n",
       "       objective='binary:logistic', random_state=0, reg_alpha=0,\n",
       "       reg_lambda=1, scale_pos_weight=1, subsample=1, tree_method=None,\n",
       "       validate_parameters=False, verbosity=None)"
      ]
     },
     "execution_count": 34,
     "metadata": {},
     "output_type": "execute_result"
    }
   ],
   "source": [
    "new_model.fit(x_train,y_train)"
   ]
  },
  {
   "cell_type": "code",
   "execution_count": 35,
   "metadata": {},
   "outputs": [],
   "source": [
    "y_pred1=new_model.predict(x_test)"
   ]
  },
  {
   "cell_type": "code",
   "execution_count": 36,
   "metadata": {},
   "outputs": [
    {
     "data": {
      "text/plain": [
       "0.8561214712169234"
      ]
     },
     "execution_count": 36,
     "metadata": {},
     "output_type": "execute_result"
    }
   ],
   "source": [
    "accuracy2 =accuracy_score(y_test,y_pred1)\n",
    "accuracy2"
   ]
  },
  {
   "cell_type": "code",
   "execution_count": null,
   "metadata": {},
   "outputs": [],
   "source": []
  }
 ],
 "metadata": {
  "kernelspec": {
   "display_name": "Python 3",
   "language": "python",
   "name": "python3"
  },
  "language_info": {
   "codemirror_mode": {
    "name": "ipython",
    "version": 3
   },
   "file_extension": ".py",
   "mimetype": "text/x-python",
   "name": "python",
   "nbconvert_exporter": "python",
   "pygments_lexer": "ipython3",
   "version": "3.7.3"
  }
 },
 "nbformat": 4,
 "nbformat_minor": 2
}
