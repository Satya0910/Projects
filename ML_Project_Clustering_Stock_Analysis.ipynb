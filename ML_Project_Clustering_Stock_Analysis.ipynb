{
 "cells": [
  {
   "cell_type": "code",
   "execution_count": 1,
   "metadata": {},
   "outputs": [],
   "source": [
    "import numpy as np\n",
    "import pandas as pd\n",
    "import matplotlib.pyplot as plt\n",
    "%matplotlib inline\n",
    "import seaborn as sns"
   ]
  },
  {
   "cell_type": "code",
   "execution_count": 2,
   "metadata": {},
   "outputs": [],
   "source": [
    "data = pd.read_csv(\"data_stocks.csv\")"
   ]
  },
  {
   "cell_type": "code",
   "execution_count": 3,
   "metadata": {},
   "outputs": [
    {
     "data": {
      "text/html": [
       "<div>\n",
       "<style scoped>\n",
       "    .dataframe tbody tr th:only-of-type {\n",
       "        vertical-align: middle;\n",
       "    }\n",
       "\n",
       "    .dataframe tbody tr th {\n",
       "        vertical-align: top;\n",
       "    }\n",
       "\n",
       "    .dataframe thead th {\n",
       "        text-align: right;\n",
       "    }\n",
       "</style>\n",
       "<table border=\"1\" class=\"dataframe\">\n",
       "  <thead>\n",
       "    <tr style=\"text-align: right;\">\n",
       "      <th></th>\n",
       "      <th>DATE</th>\n",
       "      <th>SP500</th>\n",
       "      <th>NASDAQ.AAL</th>\n",
       "      <th>NASDAQ.AAPL</th>\n",
       "      <th>NASDAQ.ADBE</th>\n",
       "      <th>NASDAQ.ADI</th>\n",
       "      <th>NASDAQ.ADP</th>\n",
       "      <th>NASDAQ.ADSK</th>\n",
       "      <th>NASDAQ.AKAM</th>\n",
       "      <th>NASDAQ.ALXN</th>\n",
       "      <th>...</th>\n",
       "      <th>NYSE.WYN</th>\n",
       "      <th>NYSE.XEC</th>\n",
       "      <th>NYSE.XEL</th>\n",
       "      <th>NYSE.XL</th>\n",
       "      <th>NYSE.XOM</th>\n",
       "      <th>NYSE.XRX</th>\n",
       "      <th>NYSE.XYL</th>\n",
       "      <th>NYSE.YUM</th>\n",
       "      <th>NYSE.ZBH</th>\n",
       "      <th>NYSE.ZTS</th>\n",
       "    </tr>\n",
       "  </thead>\n",
       "  <tbody>\n",
       "    <tr>\n",
       "      <th>0</th>\n",
       "      <td>1491226200</td>\n",
       "      <td>2363.6101</td>\n",
       "      <td>42.3300</td>\n",
       "      <td>143.6800</td>\n",
       "      <td>129.6300</td>\n",
       "      <td>82.040</td>\n",
       "      <td>102.2300</td>\n",
       "      <td>85.2200</td>\n",
       "      <td>59.760</td>\n",
       "      <td>121.52</td>\n",
       "      <td>...</td>\n",
       "      <td>84.370</td>\n",
       "      <td>119.035</td>\n",
       "      <td>44.40</td>\n",
       "      <td>39.88</td>\n",
       "      <td>82.03</td>\n",
       "      <td>7.36</td>\n",
       "      <td>50.22</td>\n",
       "      <td>63.86</td>\n",
       "      <td>122.000</td>\n",
       "      <td>53.350</td>\n",
       "    </tr>\n",
       "    <tr>\n",
       "      <th>1</th>\n",
       "      <td>1491226260</td>\n",
       "      <td>2364.1001</td>\n",
       "      <td>42.3600</td>\n",
       "      <td>143.7000</td>\n",
       "      <td>130.3200</td>\n",
       "      <td>82.080</td>\n",
       "      <td>102.1400</td>\n",
       "      <td>85.6500</td>\n",
       "      <td>59.840</td>\n",
       "      <td>121.48</td>\n",
       "      <td>...</td>\n",
       "      <td>84.370</td>\n",
       "      <td>119.035</td>\n",
       "      <td>44.11</td>\n",
       "      <td>39.88</td>\n",
       "      <td>82.03</td>\n",
       "      <td>7.38</td>\n",
       "      <td>50.22</td>\n",
       "      <td>63.74</td>\n",
       "      <td>121.770</td>\n",
       "      <td>53.350</td>\n",
       "    </tr>\n",
       "    <tr>\n",
       "      <th>2</th>\n",
       "      <td>1491226320</td>\n",
       "      <td>2362.6799</td>\n",
       "      <td>42.3100</td>\n",
       "      <td>143.6901</td>\n",
       "      <td>130.2250</td>\n",
       "      <td>82.030</td>\n",
       "      <td>102.2125</td>\n",
       "      <td>85.5100</td>\n",
       "      <td>59.795</td>\n",
       "      <td>121.93</td>\n",
       "      <td>...</td>\n",
       "      <td>84.585</td>\n",
       "      <td>119.260</td>\n",
       "      <td>44.09</td>\n",
       "      <td>39.98</td>\n",
       "      <td>82.02</td>\n",
       "      <td>7.36</td>\n",
       "      <td>50.12</td>\n",
       "      <td>63.75</td>\n",
       "      <td>121.700</td>\n",
       "      <td>53.365</td>\n",
       "    </tr>\n",
       "    <tr>\n",
       "      <th>3</th>\n",
       "      <td>1491226380</td>\n",
       "      <td>2364.3101</td>\n",
       "      <td>42.3700</td>\n",
       "      <td>143.6400</td>\n",
       "      <td>130.0729</td>\n",
       "      <td>82.000</td>\n",
       "      <td>102.1400</td>\n",
       "      <td>85.4872</td>\n",
       "      <td>59.620</td>\n",
       "      <td>121.44</td>\n",
       "      <td>...</td>\n",
       "      <td>84.460</td>\n",
       "      <td>119.260</td>\n",
       "      <td>44.25</td>\n",
       "      <td>39.99</td>\n",
       "      <td>82.02</td>\n",
       "      <td>7.35</td>\n",
       "      <td>50.16</td>\n",
       "      <td>63.88</td>\n",
       "      <td>121.700</td>\n",
       "      <td>53.380</td>\n",
       "    </tr>\n",
       "    <tr>\n",
       "      <th>4</th>\n",
       "      <td>1491226440</td>\n",
       "      <td>2364.8501</td>\n",
       "      <td>42.5378</td>\n",
       "      <td>143.6600</td>\n",
       "      <td>129.8800</td>\n",
       "      <td>82.035</td>\n",
       "      <td>102.0600</td>\n",
       "      <td>85.7001</td>\n",
       "      <td>59.620</td>\n",
       "      <td>121.60</td>\n",
       "      <td>...</td>\n",
       "      <td>84.470</td>\n",
       "      <td>119.610</td>\n",
       "      <td>44.11</td>\n",
       "      <td>39.96</td>\n",
       "      <td>82.03</td>\n",
       "      <td>7.36</td>\n",
       "      <td>50.20</td>\n",
       "      <td>63.91</td>\n",
       "      <td>121.695</td>\n",
       "      <td>53.240</td>\n",
       "    </tr>\n",
       "  </tbody>\n",
       "</table>\n",
       "<p>5 rows × 502 columns</p>\n",
       "</div>"
      ],
      "text/plain": [
       "         DATE      SP500  NASDAQ.AAL  NASDAQ.AAPL  NASDAQ.ADBE  NASDAQ.ADI  \\\n",
       "0  1491226200  2363.6101     42.3300     143.6800     129.6300      82.040   \n",
       "1  1491226260  2364.1001     42.3600     143.7000     130.3200      82.080   \n",
       "2  1491226320  2362.6799     42.3100     143.6901     130.2250      82.030   \n",
       "3  1491226380  2364.3101     42.3700     143.6400     130.0729      82.000   \n",
       "4  1491226440  2364.8501     42.5378     143.6600     129.8800      82.035   \n",
       "\n",
       "   NASDAQ.ADP  NASDAQ.ADSK  NASDAQ.AKAM  NASDAQ.ALXN    ...     NYSE.WYN  \\\n",
       "0    102.2300      85.2200       59.760       121.52    ...       84.370   \n",
       "1    102.1400      85.6500       59.840       121.48    ...       84.370   \n",
       "2    102.2125      85.5100       59.795       121.93    ...       84.585   \n",
       "3    102.1400      85.4872       59.620       121.44    ...       84.460   \n",
       "4    102.0600      85.7001       59.620       121.60    ...       84.470   \n",
       "\n",
       "   NYSE.XEC  NYSE.XEL  NYSE.XL  NYSE.XOM  NYSE.XRX  NYSE.XYL  NYSE.YUM  \\\n",
       "0   119.035     44.40    39.88     82.03      7.36     50.22     63.86   \n",
       "1   119.035     44.11    39.88     82.03      7.38     50.22     63.74   \n",
       "2   119.260     44.09    39.98     82.02      7.36     50.12     63.75   \n",
       "3   119.260     44.25    39.99     82.02      7.35     50.16     63.88   \n",
       "4   119.610     44.11    39.96     82.03      7.36     50.20     63.91   \n",
       "\n",
       "   NYSE.ZBH  NYSE.ZTS  \n",
       "0   122.000    53.350  \n",
       "1   121.770    53.350  \n",
       "2   121.700    53.365  \n",
       "3   121.700    53.380  \n",
       "4   121.695    53.240  \n",
       "\n",
       "[5 rows x 502 columns]"
      ]
     },
     "execution_count": 3,
     "metadata": {},
     "output_type": "execute_result"
    }
   ],
   "source": [
    "data.head()"
   ]
  },
  {
   "cell_type": "code",
   "execution_count": 4,
   "metadata": {},
   "outputs": [
    {
     "name": "stdout",
     "output_type": "stream",
     "text": [
      "<class 'pandas.core.frame.DataFrame'>\n",
      "RangeIndex: 41266 entries, 0 to 41265\n",
      "Columns: 502 entries, DATE to NYSE.ZTS\n",
      "dtypes: float64(501), int64(1)\n",
      "memory usage: 158.0 MB\n"
     ]
    }
   ],
   "source": [
    "data.info()"
   ]
  },
  {
   "cell_type": "code",
   "execution_count": 5,
   "metadata": {},
   "outputs": [
    {
     "data": {
      "text/plain": [
       "DATE            0\n",
       "SP500           0\n",
       "NASDAQ.AAL      0\n",
       "NASDAQ.AAPL     0\n",
       "NASDAQ.ADBE     0\n",
       "NASDAQ.ADI      0\n",
       "NASDAQ.ADP      0\n",
       "NASDAQ.ADSK     0\n",
       "NASDAQ.AKAM     0\n",
       "NASDAQ.ALXN     0\n",
       "NASDAQ.AMAT     0\n",
       "NASDAQ.AMD      0\n",
       "NASDAQ.AMGN     0\n",
       "NASDAQ.AMZN     0\n",
       "NASDAQ.ATVI     0\n",
       "NASDAQ.AVGO     0\n",
       "NASDAQ.BBBY     0\n",
       "NASDAQ.BIIB     0\n",
       "NASDAQ.CA       0\n",
       "NASDAQ.CBOE     0\n",
       "NASDAQ.CELG     0\n",
       "NASDAQ.CERN     0\n",
       "NASDAQ.CHRW     0\n",
       "NASDAQ.CHTR     0\n",
       "NASDAQ.CINF     0\n",
       "NASDAQ.CMCSA    0\n",
       "NASDAQ.CME      0\n",
       "NASDAQ.COST     0\n",
       "NASDAQ.CSCO     0\n",
       "NASDAQ.CSX      0\n",
       "               ..\n",
       "NYSE.USB        0\n",
       "NYSE.UTX        0\n",
       "NYSE.V          0\n",
       "NYSE.VAR        0\n",
       "NYSE.VFC        0\n",
       "NYSE.VLO        0\n",
       "NYSE.VMC        0\n",
       "NYSE.VNO        0\n",
       "NYSE.VTR        0\n",
       "NYSE.VZ         0\n",
       "NYSE.WAT        0\n",
       "NYSE.WEC        0\n",
       "NYSE.WFC        0\n",
       "NYSE.WHR        0\n",
       "NYSE.WM         0\n",
       "NYSE.WMB        0\n",
       "NYSE.WMT        0\n",
       "NYSE.WRK        0\n",
       "NYSE.WU         0\n",
       "NYSE.WY         0\n",
       "NYSE.WYN        0\n",
       "NYSE.XEC        0\n",
       "NYSE.XEL        0\n",
       "NYSE.XL         0\n",
       "NYSE.XOM        0\n",
       "NYSE.XRX        0\n",
       "NYSE.XYL        0\n",
       "NYSE.YUM        0\n",
       "NYSE.ZBH        0\n",
       "NYSE.ZTS        0\n",
       "Length: 502, dtype: int64"
      ]
     },
     "execution_count": 5,
     "metadata": {},
     "output_type": "execute_result"
    }
   ],
   "source": [
    "# check the missing value\n",
    "data.isna().sum()"
   ]
  },
  {
   "cell_type": "code",
   "execution_count": 6,
   "metadata": {},
   "outputs": [
    {
     "data": {
      "text/plain": [
       "<matplotlib.axes._subplots.AxesSubplot at 0x212f1bfb00>"
      ]
     },
     "execution_count": 6,
     "metadata": {},
     "output_type": "execute_result"
    },
    {
     "data": {
      "image/png": "[encoded data removed]",
      "text/plain": [
       "<matplotlib.figure.Figure at 0x212c94b7b8>"
      ]
     },
     "metadata": {},
     "output_type": "display_data"
    }
   ],
   "source": [
    "sns.heatmap(data.isna(),cmap='viridis')"
   ]
  },
  {
   "cell_type": "code",
   "execution_count": 7,
   "metadata": {},
   "outputs": [],
   "source": [
    "# dropping the date column as except this each variable is contineous var\n",
    "data.drop([\"DATE\"],1, inplace=True)"
   ]
  },
  {
   "cell_type": "code",
   "execution_count": 8,
   "metadata": {},
   "outputs": [
    {
     "data": {
      "text/html": [
       "<div>\n",
       "<style scoped>\n",
       "    .dataframe tbody tr th:only-of-type {\n",
       "        vertical-align: middle;\n",
       "    }\n",
       "\n",
       "    .dataframe tbody tr th {\n",
       "        vertical-align: top;\n",
       "    }\n",
       "\n",
       "    .dataframe thead th {\n",
       "        text-align: right;\n",
       "    }\n",
       "</style>\n",
       "<table border=\"1\" class=\"dataframe\">\n",
       "  <thead>\n",
       "    <tr style=\"text-align: right;\">\n",
       "      <th></th>\n",
       "      <th>SP500</th>\n",
       "      <th>NASDAQ.AAL</th>\n",
       "      <th>NASDAQ.AAPL</th>\n",
       "      <th>NASDAQ.ADBE</th>\n",
       "      <th>NASDAQ.ADI</th>\n",
       "      <th>NASDAQ.ADP</th>\n",
       "      <th>NASDAQ.ADSK</th>\n",
       "      <th>NASDAQ.AKAM</th>\n",
       "      <th>NASDAQ.ALXN</th>\n",
       "      <th>NASDAQ.AMAT</th>\n",
       "      <th>...</th>\n",
       "      <th>NYSE.WYN</th>\n",
       "      <th>NYSE.XEC</th>\n",
       "      <th>NYSE.XEL</th>\n",
       "      <th>NYSE.XL</th>\n",
       "      <th>NYSE.XOM</th>\n",
       "      <th>NYSE.XRX</th>\n",
       "      <th>NYSE.XYL</th>\n",
       "      <th>NYSE.YUM</th>\n",
       "      <th>NYSE.ZBH</th>\n",
       "      <th>NYSE.ZTS</th>\n",
       "    </tr>\n",
       "  </thead>\n",
       "  <tbody>\n",
       "    <tr>\n",
       "      <th>0</th>\n",
       "      <td>2363.6101</td>\n",
       "      <td>42.3300</td>\n",
       "      <td>143.6800</td>\n",
       "      <td>129.6300</td>\n",
       "      <td>82.040</td>\n",
       "      <td>102.2300</td>\n",
       "      <td>85.2200</td>\n",
       "      <td>59.760</td>\n",
       "      <td>121.52</td>\n",
       "      <td>38.99</td>\n",
       "      <td>...</td>\n",
       "      <td>84.370</td>\n",
       "      <td>119.035</td>\n",
       "      <td>44.40</td>\n",
       "      <td>39.88</td>\n",
       "      <td>82.03</td>\n",
       "      <td>7.36</td>\n",
       "      <td>50.22</td>\n",
       "      <td>63.86</td>\n",
       "      <td>122.000</td>\n",
       "      <td>53.350</td>\n",
       "    </tr>\n",
       "    <tr>\n",
       "      <th>1</th>\n",
       "      <td>2364.1001</td>\n",
       "      <td>42.3600</td>\n",
       "      <td>143.7000</td>\n",
       "      <td>130.3200</td>\n",
       "      <td>82.080</td>\n",
       "      <td>102.1400</td>\n",
       "      <td>85.6500</td>\n",
       "      <td>59.840</td>\n",
       "      <td>121.48</td>\n",
       "      <td>39.01</td>\n",
       "      <td>...</td>\n",
       "      <td>84.370</td>\n",
       "      <td>119.035</td>\n",
       "      <td>44.11</td>\n",
       "      <td>39.88</td>\n",
       "      <td>82.03</td>\n",
       "      <td>7.38</td>\n",
       "      <td>50.22</td>\n",
       "      <td>63.74</td>\n",
       "      <td>121.770</td>\n",
       "      <td>53.350</td>\n",
       "    </tr>\n",
       "    <tr>\n",
       "      <th>2</th>\n",
       "      <td>2362.6799</td>\n",
       "      <td>42.3100</td>\n",
       "      <td>143.6901</td>\n",
       "      <td>130.2250</td>\n",
       "      <td>82.030</td>\n",
       "      <td>102.2125</td>\n",
       "      <td>85.5100</td>\n",
       "      <td>59.795</td>\n",
       "      <td>121.93</td>\n",
       "      <td>38.91</td>\n",
       "      <td>...</td>\n",
       "      <td>84.585</td>\n",
       "      <td>119.260</td>\n",
       "      <td>44.09</td>\n",
       "      <td>39.98</td>\n",
       "      <td>82.02</td>\n",
       "      <td>7.36</td>\n",
       "      <td>50.12</td>\n",
       "      <td>63.75</td>\n",
       "      <td>121.700</td>\n",
       "      <td>53.365</td>\n",
       "    </tr>\n",
       "    <tr>\n",
       "      <th>3</th>\n",
       "      <td>2364.3101</td>\n",
       "      <td>42.3700</td>\n",
       "      <td>143.6400</td>\n",
       "      <td>130.0729</td>\n",
       "      <td>82.000</td>\n",
       "      <td>102.1400</td>\n",
       "      <td>85.4872</td>\n",
       "      <td>59.620</td>\n",
       "      <td>121.44</td>\n",
       "      <td>38.84</td>\n",
       "      <td>...</td>\n",
       "      <td>84.460</td>\n",
       "      <td>119.260</td>\n",
       "      <td>44.25</td>\n",
       "      <td>39.99</td>\n",
       "      <td>82.02</td>\n",
       "      <td>7.35</td>\n",
       "      <td>50.16</td>\n",
       "      <td>63.88</td>\n",
       "      <td>121.700</td>\n",
       "      <td>53.380</td>\n",
       "    </tr>\n",
       "    <tr>\n",
       "      <th>4</th>\n",
       "      <td>2364.8501</td>\n",
       "      <td>42.5378</td>\n",
       "      <td>143.6600</td>\n",
       "      <td>129.8800</td>\n",
       "      <td>82.035</td>\n",
       "      <td>102.0600</td>\n",
       "      <td>85.7001</td>\n",
       "      <td>59.620</td>\n",
       "      <td>121.60</td>\n",
       "      <td>38.93</td>\n",
       "      <td>...</td>\n",
       "      <td>84.470</td>\n",
       "      <td>119.610</td>\n",
       "      <td>44.11</td>\n",
       "      <td>39.96</td>\n",
       "      <td>82.03</td>\n",
       "      <td>7.36</td>\n",
       "      <td>50.20</td>\n",
       "      <td>63.91</td>\n",
       "      <td>121.695</td>\n",
       "      <td>53.240</td>\n",
       "    </tr>\n",
       "  </tbody>\n",
       "</table>\n",
       "<p>5 rows × 501 columns</p>\n",
       "</div>"
      ],
      "text/plain": [
       "       SP500  NASDAQ.AAL  NASDAQ.AAPL  NASDAQ.ADBE  NASDAQ.ADI  NASDAQ.ADP  \\\n",
       "0  2363.6101     42.3300     143.6800     129.6300      82.040    102.2300   \n",
       "1  2364.1001     42.3600     143.7000     130.3200      82.080    102.1400   \n",
       "2  2362.6799     42.3100     143.6901     130.2250      82.030    102.2125   \n",
       "3  2364.3101     42.3700     143.6400     130.0729      82.000    102.1400   \n",
       "4  2364.8501     42.5378     143.6600     129.8800      82.035    102.0600   \n",
       "\n",
       "   NASDAQ.ADSK  NASDAQ.AKAM  NASDAQ.ALXN  NASDAQ.AMAT    ...     NYSE.WYN  \\\n",
       "0      85.2200       59.760       121.52        38.99    ...       84.370   \n",
       "1      85.6500       59.840       121.48        39.01    ...       84.370   \n",
       "2      85.5100       59.795       121.93        38.91    ...       84.585   \n",
       "3      85.4872       59.620       121.44        38.84    ...       84.460   \n",
       "4      85.7001       59.620       121.60        38.93    ...       84.470   \n",
       "\n",
       "   NYSE.XEC  NYSE.XEL  NYSE.XL  NYSE.XOM  NYSE.XRX  NYSE.XYL  NYSE.YUM  \\\n",
       "0   119.035     44.40    39.88     82.03      7.36     50.22     63.86   \n",
       "1   119.035     44.11    39.88     82.03      7.38     50.22     63.74   \n",
       "2   119.260     44.09    39.98     82.02      7.36     50.12     63.75   \n",
       "3   119.260     44.25    39.99     82.02      7.35     50.16     63.88   \n",
       "4   119.610     44.11    39.96     82.03      7.36     50.20     63.91   \n",
       "\n",
       "   NYSE.ZBH  NYSE.ZTS  \n",
       "0   122.000    53.350  \n",
       "1   121.770    53.350  \n",
       "2   121.700    53.365  \n",
       "3   121.700    53.380  \n",
       "4   121.695    53.240  \n",
       "\n",
       "[5 rows x 501 columns]"
      ]
     },
     "execution_count": 8,
     "metadata": {},
     "output_type": "execute_result"
    }
   ],
   "source": [
    "data.head()"
   ]
  },
  {
   "cell_type": "markdown",
   "metadata": {},
   "source": [
    "# Q.1 There are various stocks for which we have collected a data set, which all stocks are apparently similar in performance"
   ]
  },
  {
   "cell_type": "code",
   "execution_count": 9,
   "metadata": {},
   "outputs": [
    {
     "data": {
      "text/plain": [
       "(41266, 501)"
      ]
     },
     "execution_count": 9,
     "metadata": {},
     "output_type": "execute_result"
    }
   ],
   "source": [
    "data.shape"
   ]
  },
  {
   "cell_type": "code",
   "execution_count": 10,
   "metadata": {},
   "outputs": [
    {
     "name": "stdout",
     "output_type": "stream",
     "text": [
      "[3.09922383e+04 6.86852475e+03 3.74175439e+03 1.57609353e+03\n",
      " 5.40413309e+02 4.06852097e+02 3.40508507e+02 2.09137092e+02\n",
      " 1.68165135e+02 1.24664488e+02 9.29860232e+01 7.14348330e+01\n",
      " 6.99470929e+01 6.04664002e+01 5.38643953e+01 4.43765267e+01\n",
      " 4.33493801e+01 3.73225817e+01 2.98966515e+01 2.55778792e+01]\n",
      "[[-0.21601455 -0.01315403 -0.01995395 ... -0.02188381 -0.00364211\n",
      "  -0.0160987 ]\n",
      " [-0.03075848 -0.01700272  0.01501107 ... -0.00123491 -0.03899061\n",
      "  -0.01593842]\n",
      " [ 0.04724604  0.00774066 -0.02521796 ... -0.01560185  0.01876591\n",
      "  -0.01637398]\n",
      " ...\n",
      " [-0.0346899   0.00498081 -0.06737242 ... -0.01800957  0.02796549\n",
      "  -0.01038815]\n",
      " [ 0.08409766 -0.01045305  0.00938558 ... -0.00869817 -0.07095734\n",
      "  -0.01747499]\n",
      " [ 0.15508851 -0.04413535  0.06434652 ... -0.02376869  0.04580156\n",
      "  -0.00400795]]\n"
     ]
    }
   ],
   "source": [
    "from sklearn.decomposition import PCA\n",
    "pca = PCA(n_components=20)\n",
    "pca.fit(data)\n",
    "print(pca.explained_variance_) #The amount of variance explained by the selected components.\n",
    "print(pca.components_) # points near to Components"
   ]
  },
  {
   "cell_type": "code",
   "execution_count": 11,
   "metadata": {},
   "outputs": [
    {
     "data": {
      "text/plain": [
       "Text(0,0.5,'cumulative explained variable')"
      ]
     },
     "execution_count": 11,
     "metadata": {},
     "output_type": "execute_result"
    },
    {
     "data": {
      "image/png": "[encoded data removed]",
      "text/plain": [
       "<matplotlib.figure.Figure at 0x212c859588>"
      ]
     },
     "metadata": {},
     "output_type": "display_data"
    }
   ],
   "source": [
    "plt.figure(figsize=(8,8))\n",
    "plt.plot(np.cumsum(pca.explained_variance_ratio_)) #Percentage of variance explained by the selected components.\n",
    "plt.xlabel(\"number of component\") # np.cumsum is cumulative of array element over given aixs\n",
    "plt.ylabel(\"cumulative explained variable\")"
   ]
  },
  {
   "cell_type": "code",
   "execution_count": 12,
   "metadata": {},
   "outputs": [],
   "source": [
    "x_transformed = pca.transform(data)"
   ]
  },
  {
   "cell_type": "code",
   "execution_count": 13,
   "metadata": {},
   "outputs": [
    {
     "data": {
      "text/plain": [
       "(41266, 20)"
      ]
     },
     "execution_count": 13,
     "metadata": {},
     "output_type": "execute_result"
    }
   ],
   "source": [
    "x_transformed.shape"
   ]
  },
  {
   "cell_type": "code",
   "execution_count": 14,
   "metadata": {},
   "outputs": [],
   "source": [
    "final = pd.DataFrame(x_transformed)"
   ]
  },
  {
   "cell_type": "code",
   "execution_count": 15,
   "metadata": {},
   "outputs": [
    {
     "data": {
      "text/html": [
       "<div>\n",
       "<style scoped>\n",
       "    .dataframe tbody tr th:only-of-type {\n",
       "        vertical-align: middle;\n",
       "    }\n",
       "\n",
       "    .dataframe tbody tr th {\n",
       "        vertical-align: top;\n",
       "    }\n",
       "\n",
       "    .dataframe thead th {\n",
       "        text-align: right;\n",
       "    }\n",
       "</style>\n",
       "<table border=\"1\" class=\"dataframe\">\n",
       "  <thead>\n",
       "    <tr style=\"text-align: right;\">\n",
       "      <th></th>\n",
       "      <th>0</th>\n",
       "      <th>1</th>\n",
       "      <th>2</th>\n",
       "      <th>3</th>\n",
       "      <th>4</th>\n",
       "      <th>5</th>\n",
       "      <th>6</th>\n",
       "      <th>7</th>\n",
       "      <th>8</th>\n",
       "      <th>9</th>\n",
       "      <th>10</th>\n",
       "      <th>11</th>\n",
       "      <th>12</th>\n",
       "      <th>13</th>\n",
       "      <th>14</th>\n",
       "      <th>15</th>\n",
       "      <th>16</th>\n",
       "      <th>17</th>\n",
       "      <th>18</th>\n",
       "      <th>19</th>\n",
       "    </tr>\n",
       "  </thead>\n",
       "  <tbody>\n",
       "    <tr>\n",
       "      <th>0</th>\n",
       "      <td>312.064719</td>\n",
       "      <td>82.163267</td>\n",
       "      <td>61.139226</td>\n",
       "      <td>28.755818</td>\n",
       "      <td>6.935543</td>\n",
       "      <td>16.281887</td>\n",
       "      <td>30.701149</td>\n",
       "      <td>-11.747953</td>\n",
       "      <td>12.590705</td>\n",
       "      <td>-9.397490</td>\n",
       "      <td>18.517865</td>\n",
       "      <td>14.097089</td>\n",
       "      <td>-6.922783</td>\n",
       "      <td>16.356192</td>\n",
       "      <td>-9.526059</td>\n",
       "      <td>-0.294730</td>\n",
       "      <td>-3.785065</td>\n",
       "      <td>6.591878</td>\n",
       "      <td>0.019456</td>\n",
       "      <td>5.079262</td>\n",
       "    </tr>\n",
       "    <tr>\n",
       "      <th>1</th>\n",
       "      <td>308.408065</td>\n",
       "      <td>78.093483</td>\n",
       "      <td>61.798818</td>\n",
       "      <td>28.178963</td>\n",
       "      <td>6.873320</td>\n",
       "      <td>14.447357</td>\n",
       "      <td>31.186630</td>\n",
       "      <td>-12.186886</td>\n",
       "      <td>13.252831</td>\n",
       "      <td>-11.689846</td>\n",
       "      <td>19.275638</td>\n",
       "      <td>14.935232</td>\n",
       "      <td>-6.027756</td>\n",
       "      <td>16.532688</td>\n",
       "      <td>-10.515392</td>\n",
       "      <td>0.121637</td>\n",
       "      <td>-2.798046</td>\n",
       "      <td>8.582980</td>\n",
       "      <td>0.738216</td>\n",
       "      <td>4.438059</td>\n",
       "    </tr>\n",
       "    <tr>\n",
       "      <th>2</th>\n",
       "      <td>306.773648</td>\n",
       "      <td>77.324274</td>\n",
       "      <td>59.118288</td>\n",
       "      <td>30.163907</td>\n",
       "      <td>7.749785</td>\n",
       "      <td>12.284493</td>\n",
       "      <td>29.357302</td>\n",
       "      <td>-10.953506</td>\n",
       "      <td>14.207331</td>\n",
       "      <td>-13.070669</td>\n",
       "      <td>19.500106</td>\n",
       "      <td>14.158790</td>\n",
       "      <td>-5.059532</td>\n",
       "      <td>15.368940</td>\n",
       "      <td>-10.258928</td>\n",
       "      <td>-2.076232</td>\n",
       "      <td>-1.725996</td>\n",
       "      <td>10.163165</td>\n",
       "      <td>1.289607</td>\n",
       "      <td>4.446510</td>\n",
       "    </tr>\n",
       "    <tr>\n",
       "      <th>3</th>\n",
       "      <td>306.765035</td>\n",
       "      <td>80.327414</td>\n",
       "      <td>59.100005</td>\n",
       "      <td>31.755701</td>\n",
       "      <td>8.766988</td>\n",
       "      <td>11.618798</td>\n",
       "      <td>28.923774</td>\n",
       "      <td>-11.491002</td>\n",
       "      <td>14.323185</td>\n",
       "      <td>-12.957800</td>\n",
       "      <td>19.560688</td>\n",
       "      <td>14.697144</td>\n",
       "      <td>-5.088822</td>\n",
       "      <td>15.244858</td>\n",
       "      <td>-10.668768</td>\n",
       "      <td>-2.609043</td>\n",
       "      <td>-1.337074</td>\n",
       "      <td>10.020695</td>\n",
       "      <td>1.165749</td>\n",
       "      <td>5.492160</td>\n",
       "    </tr>\n",
       "    <tr>\n",
       "      <th>4</th>\n",
       "      <td>304.125592</td>\n",
       "      <td>80.792599</td>\n",
       "      <td>56.901885</td>\n",
       "      <td>34.077765</td>\n",
       "      <td>9.425933</td>\n",
       "      <td>10.022780</td>\n",
       "      <td>27.554326</td>\n",
       "      <td>-10.418945</td>\n",
       "      <td>16.870832</td>\n",
       "      <td>-13.768308</td>\n",
       "      <td>19.016835</td>\n",
       "      <td>13.698467</td>\n",
       "      <td>-4.867988</td>\n",
       "      <td>13.975333</td>\n",
       "      <td>-11.591712</td>\n",
       "      <td>-2.118169</td>\n",
       "      <td>-0.430876</td>\n",
       "      <td>10.850408</td>\n",
       "      <td>1.790989</td>\n",
       "      <td>5.630934</td>\n",
       "    </tr>\n",
       "  </tbody>\n",
       "</table>\n",
       "</div>"
      ],
      "text/plain": [
       "           0          1          2          3         4          5   \\\n",
       "0  312.064719  82.163267  61.139226  28.755818  6.935543  16.281887   \n",
       "1  308.408065  78.093483  61.798818  28.178963  6.873320  14.447357   \n",
       "2  306.773648  77.324274  59.118288  30.163907  7.749785  12.284493   \n",
       "3  306.765035  80.327414  59.100005  31.755701  8.766988  11.618798   \n",
       "4  304.125592  80.792599  56.901885  34.077765  9.425933  10.022780   \n",
       "\n",
       "          6          7          8          9          10         11        12  \\\n",
       "0  30.701149 -11.747953  12.590705  -9.397490  18.517865  14.097089 -6.922783   \n",
       "1  31.186630 -12.186886  13.252831 -11.689846  19.275638  14.935232 -6.027756   \n",
       "2  29.357302 -10.953506  14.207331 -13.070669  19.500106  14.158790 -5.059532   \n",
       "3  28.923774 -11.491002  14.323185 -12.957800  19.560688  14.697144 -5.088822   \n",
       "4  27.554326 -10.418945  16.870832 -13.768308  19.016835  13.698467 -4.867988   \n",
       "\n",
       "          13         14        15        16         17        18        19  \n",
       "0  16.356192  -9.526059 -0.294730 -3.785065   6.591878  0.019456  5.079262  \n",
       "1  16.532688 -10.515392  0.121637 -2.798046   8.582980  0.738216  4.438059  \n",
       "2  15.368940 -10.258928 -2.076232 -1.725996  10.163165  1.289607  4.446510  \n",
       "3  15.244858 -10.668768 -2.609043 -1.337074  10.020695  1.165749  5.492160  \n",
       "4  13.975333 -11.591712 -2.118169 -0.430876  10.850408  1.790989  5.630934  "
      ]
     },
     "execution_count": 15,
     "metadata": {},
     "output_type": "execute_result"
    }
   ],
   "source": [
    "final.head()"
   ]
  },
  {
   "cell_type": "markdown",
   "metadata": {},
   "source": [
    "### Above analysis shows that 20 components are required to explain the 90% above varaince"
   ]
  },
  {
   "cell_type": "markdown",
   "metadata": {},
   "source": [
    "# Q.2 How many Unique patterns that exist in the historical stock data set, based on fluctuations in price."
   ]
  },
  {
   "cell_type": "code",
   "execution_count": 16,
   "metadata": {},
   "outputs": [
    {
     "data": {
      "text/plain": [
       "array([[-1.46442566, -1.65013444, -1.08607297, ..., -1.95578373,\n",
       "         0.10281519, -2.04188417],\n",
       "       [-1.45203837, -1.64093012, -1.08286618, ..., -1.98549977,\n",
       "         0.06179505, -2.04188417],\n",
       "       [-1.4879413 , -1.65627065, -1.08445354, ..., -1.98302344,\n",
       "         0.04931066, -2.03740234],\n",
       "       ...,\n",
       "       [ 1.22589025, -0.91072048,  2.17363755, ...,  1.2684067 ,\n",
       "        -1.26868429,  0.74730823],\n",
       "       [ 1.26279933, -0.9199248 ,  2.15279336, ...,  1.25602502,\n",
       "        -1.28295217,  0.73090473],\n",
       "       [ 1.26279933, -0.91072048,  2.16882735, ...,  1.25107235,\n",
       "        -1.27403475,  0.74581429]])"
      ]
     },
     "execution_count": 16,
     "metadata": {},
     "output_type": "execute_result"
    }
   ],
   "source": [
    "from sklearn.preprocessing import StandardScaler\n",
    "scaller = StandardScaler()\n",
    "scaller_data = scaller.fit_transform(data)\n",
    "scaller_data"
   ]
  },
  {
   "cell_type": "code",
   "execution_count": 17,
   "metadata": {},
   "outputs": [
    {
     "data": {
      "text/plain": [
       "array([[39.575259  , 44.3552707 , 23.32275417, ..., 49.26579536,\n",
       "        30.68226391, 41.46095537],\n",
       "       [39.77005218, 44.40603749, 23.34337854, ..., 49.47210207,\n",
       "        30.73112513, 41.42796432],\n",
       "       [39.58595642, 44.31663958, 23.27261984, ..., 49.34987845,\n",
       "        30.68445658, 41.33798418],\n",
       "       ...,\n",
       "       [37.99007487, 25.32605709, 44.04036562, ..., 13.64800672,\n",
       "        42.05297665, 33.21903283],\n",
       "       [37.92977117, 25.38302598, 43.9591221 , ..., 13.54931102,\n",
       "        41.92439346, 33.23333592],\n",
       "       [37.98588848, 25.36465875, 44.02847731, ..., 13.651117  ,\n",
       "        42.02241208, 33.24343993]])"
      ]
     },
     "execution_count": 17,
     "metadata": {},
     "output_type": "execute_result"
    }
   ],
   "source": [
    "from sklearn.cluster import KMeans\n",
    "kmeans = KMeans()\n",
    "kmeans.fit_transform(scaller_data)"
   ]
  },
  {
   "cell_type": "code",
   "execution_count": 18,
   "metadata": {},
   "outputs": [],
   "source": [
    "cluster_no = range(1,25)\n",
    "cluster = []\n",
    "for i in cluster_no:\n",
    "    kmeans = KMeans(n_clusters=i).fit(scaller_data)\n",
    "    cluster.append(kmeans.inertia_)  ## Sum of Squared Errors\n",
    "    "
   ]
  },
  {
   "cell_type": "code",
   "execution_count": 19,
   "metadata": {},
   "outputs": [
    {
     "data": {
      "text/html": [
       "<div>\n",
       "<style scoped>\n",
       "    .dataframe tbody tr th:only-of-type {\n",
       "        vertical-align: middle;\n",
       "    }\n",
       "\n",
       "    .dataframe tbody tr th {\n",
       "        vertical-align: top;\n",
       "    }\n",
       "\n",
       "    .dataframe thead th {\n",
       "        text-align: right;\n",
       "    }\n",
       "</style>\n",
       "<table border=\"1\" class=\"dataframe\">\n",
       "  <thead>\n",
       "    <tr style=\"text-align: right;\">\n",
       "      <th></th>\n",
       "      <th>Cluster Error</th>\n",
       "      <th>Cluster No.</th>\n",
       "    </tr>\n",
       "  </thead>\n",
       "  <tbody>\n",
       "    <tr>\n",
       "      <th>0</th>\n",
       "      <td>2.067427e+07</td>\n",
       "      <td>1</td>\n",
       "    </tr>\n",
       "    <tr>\n",
       "      <th>1</th>\n",
       "      <td>1.285818e+07</td>\n",
       "      <td>2</td>\n",
       "    </tr>\n",
       "    <tr>\n",
       "      <th>2</th>\n",
       "      <td>9.125500e+06</td>\n",
       "      <td>3</td>\n",
       "    </tr>\n",
       "    <tr>\n",
       "      <th>3</th>\n",
       "      <td>6.959930e+06</td>\n",
       "      <td>4</td>\n",
       "    </tr>\n",
       "    <tr>\n",
       "      <th>4</th>\n",
       "      <td>5.523680e+06</td>\n",
       "      <td>5</td>\n",
       "    </tr>\n",
       "    <tr>\n",
       "      <th>5</th>\n",
       "      <td>4.695790e+06</td>\n",
       "      <td>6</td>\n",
       "    </tr>\n",
       "    <tr>\n",
       "      <th>6</th>\n",
       "      <td>4.014381e+06</td>\n",
       "      <td>7</td>\n",
       "    </tr>\n",
       "    <tr>\n",
       "      <th>7</th>\n",
       "      <td>3.573400e+06</td>\n",
       "      <td>8</td>\n",
       "    </tr>\n",
       "    <tr>\n",
       "      <th>8</th>\n",
       "      <td>3.308331e+06</td>\n",
       "      <td>9</td>\n",
       "    </tr>\n",
       "    <tr>\n",
       "      <th>9</th>\n",
       "      <td>2.925841e+06</td>\n",
       "      <td>10</td>\n",
       "    </tr>\n",
       "    <tr>\n",
       "      <th>10</th>\n",
       "      <td>2.669305e+06</td>\n",
       "      <td>11</td>\n",
       "    </tr>\n",
       "    <tr>\n",
       "      <th>11</th>\n",
       "      <td>2.404616e+06</td>\n",
       "      <td>12</td>\n",
       "    </tr>\n",
       "    <tr>\n",
       "      <th>12</th>\n",
       "      <td>2.245728e+06</td>\n",
       "      <td>13</td>\n",
       "    </tr>\n",
       "    <tr>\n",
       "      <th>13</th>\n",
       "      <td>2.080633e+06</td>\n",
       "      <td>14</td>\n",
       "    </tr>\n",
       "    <tr>\n",
       "      <th>14</th>\n",
       "      <td>1.967366e+06</td>\n",
       "      <td>15</td>\n",
       "    </tr>\n",
       "    <tr>\n",
       "      <th>15</th>\n",
       "      <td>1.848330e+06</td>\n",
       "      <td>16</td>\n",
       "    </tr>\n",
       "    <tr>\n",
       "      <th>16</th>\n",
       "      <td>1.726786e+06</td>\n",
       "      <td>17</td>\n",
       "    </tr>\n",
       "    <tr>\n",
       "      <th>17</th>\n",
       "      <td>1.599931e+06</td>\n",
       "      <td>18</td>\n",
       "    </tr>\n",
       "    <tr>\n",
       "      <th>18</th>\n",
       "      <td>1.529594e+06</td>\n",
       "      <td>19</td>\n",
       "    </tr>\n",
       "    <tr>\n",
       "      <th>19</th>\n",
       "      <td>1.444340e+06</td>\n",
       "      <td>20</td>\n",
       "    </tr>\n",
       "    <tr>\n",
       "      <th>20</th>\n",
       "      <td>1.368393e+06</td>\n",
       "      <td>21</td>\n",
       "    </tr>\n",
       "    <tr>\n",
       "      <th>21</th>\n",
       "      <td>1.313717e+06</td>\n",
       "      <td>22</td>\n",
       "    </tr>\n",
       "    <tr>\n",
       "      <th>22</th>\n",
       "      <td>1.261925e+06</td>\n",
       "      <td>23</td>\n",
       "    </tr>\n",
       "    <tr>\n",
       "      <th>23</th>\n",
       "      <td>1.210169e+06</td>\n",
       "      <td>24</td>\n",
       "    </tr>\n",
       "  </tbody>\n",
       "</table>\n",
       "</div>"
      ],
      "text/plain": [
       "    Cluster Error  Cluster No.\n",
       "0    2.067427e+07            1\n",
       "1    1.285818e+07            2\n",
       "2    9.125500e+06            3\n",
       "3    6.959930e+06            4\n",
       "4    5.523680e+06            5\n",
       "5    4.695790e+06            6\n",
       "6    4.014381e+06            7\n",
       "7    3.573400e+06            8\n",
       "8    3.308331e+06            9\n",
       "9    2.925841e+06           10\n",
       "10   2.669305e+06           11\n",
       "11   2.404616e+06           12\n",
       "12   2.245728e+06           13\n",
       "13   2.080633e+06           14\n",
       "14   1.967366e+06           15\n",
       "15   1.848330e+06           16\n",
       "16   1.726786e+06           17\n",
       "17   1.599931e+06           18\n",
       "18   1.529594e+06           19\n",
       "19   1.444340e+06           20\n",
       "20   1.368393e+06           21\n",
       "21   1.313717e+06           22\n",
       "22   1.261925e+06           23\n",
       "23   1.210169e+06           24"
      ]
     },
     "execution_count": 19,
     "metadata": {},
     "output_type": "execute_result"
    }
   ],
   "source": [
    "cluster_df = pd.DataFrame({'Cluster No.':cluster_no, 'Cluster Error':cluster})\n",
    "cluster_df"
   ]
  },
  {
   "cell_type": "code",
   "execution_count": 20,
   "metadata": {},
   "outputs": [
    {
     "data": {
      "image/png": "[encoded data removed]",
      "text/plain": [
       "<matplotlib.figure.Figure at 0x212cf8b390>"
      ]
     },
     "metadata": {},
     "output_type": "display_data"
    }
   ],
   "source": [
    "plt.plot(cluster_df['Cluster No.'],cluster_df['Cluster Error'])\n",
    "plt.scatter(cluster_df['Cluster No.'],cluster_df['Cluster Error'])\n",
    "plt.xlabel('Number of Clusters')\n",
    "plt.ylabel('SSE')\n",
    "\n",
    "plt.grid()\n",
    "plt.show()"
   ]
  },
  {
   "cell_type": "code",
   "execution_count": 21,
   "metadata": {},
   "outputs": [
    {
     "name": "stdout",
     "output_type": "stream",
     "text": [
      "[2 2 2 ... 4 4 4]\n",
      "41266\n"
     ]
    }
   ],
   "source": [
    "# Fitting K-Means to the dataset\n",
    "kmeans = KMeans(n_clusters = 7, init = 'k-means++', random_state = 42)\n",
    "y_kmeans = kmeans.fit_predict(scaller_data)\n",
    "print(y_kmeans)\n",
    "print(len(y_kmeans))"
   ]
  },
  {
   "cell_type": "code",
   "execution_count": 22,
   "metadata": {},
   "outputs": [
    {
     "name": "stdout",
     "output_type": "stream",
     "text": [
      "Unique cluster lablels [0 1 2 3 4 5 6]\n"
     ]
    }
   ],
   "source": [
    "label = kmeans.labels_\n",
    "label\n",
    "print(\"Unique cluster lablels\",np.unique(label))"
   ]
  },
  {
   "cell_type": "code",
   "execution_count": 23,
   "metadata": {},
   "outputs": [
    {
     "name": "stdout",
     "output_type": "stream",
     "text": [
      "For k=2, The Silhouette Coefficient is 0.34921196571028584\n",
      "For k=3, The Silhouette Coefficient is 0.3661644294760302\n",
      "For k=4, The Silhouette Coefficient is 0.3724517652047592\n",
      "For k=5, The Silhouette Coefficient is 0.3921942877663772\n",
      "For k=6, The Silhouette Coefficient is 0.3893314010362944\n",
      "For k=7, The Silhouette Coefficient is 0.39557700435560217\n",
      "For k=8, The Silhouette Coefficient is 0.39490405562642517\n"
     ]
    }
   ],
   "source": [
    "from sklearn.metrics import silhouette_score\n",
    "sil_score = []\n",
    "for k in range(2, 9):\n",
    "    kmeans = KMeans(n_clusters=k).fit(scaller_data)\n",
    "    label = kmeans.labels_\n",
    "    sil_coeff = silhouette_score(scaller_data, label, metric='euclidean', sample_size=15000, random_state=10)\n",
    "    sil_score.append(sil_coeff)\n",
    "    print(\"For k={}, The Silhouette Coefficient is {}\".format(k, sil_coeff))"
   ]
  },
  {
   "cell_type": "code",
   "execution_count": 24,
   "metadata": {},
   "outputs": [
    {
     "data": {
      "image/png": "[encoded data removed]",
      "text/plain": [
       "<matplotlib.figure.Figure at 0x212def66d8>"
      ]
     },
     "metadata": {},
     "output_type": "display_data"
    }
   ],
   "source": [
    "plt.figure(figsize=(10,15))\n",
    "plt.scatter(scaller_data[y_kmeans == 0, 0], x_transformed[y_kmeans == 0, 1], s = 100, c = 'red', label = 'Cluster 1')\n",
    "plt.scatter(scaller_data[y_kmeans == 1, 0], x_transformed[y_kmeans == 1, 1], s = 100, c = 'blue', label = 'Cluster 2')\n",
    "plt.scatter(scaller_data[y_kmeans == 2, 0], x_transformed[y_kmeans == 2, 1], s = 100, c = 'green', label = 'Cluster 3')\n",
    "plt.scatter(scaller_data[y_kmeans == 3, 0], x_transformed[y_kmeans == 3, 1], s = 100, c = 'cyan', label = 'Cluster 4')\n",
    "plt.scatter(scaller_data[y_kmeans == 4, 0], x_transformed[y_kmeans == 4, 1], s = 100, c = 'brown', label = 'Cluster 5')\n",
    "plt.scatter(scaller_data[y_kmeans == 5, 0], x_transformed[y_kmeans == 5, 1], s = 100, c = 'black', label = 'Cluster 6')\n",
    "plt.scatter(scaller_data[y_kmeans == 6, 0], x_transformed[y_kmeans == 6, 1], s = 100, c = 'magenta', label = 'Cluster 7')\n",
    "plt.title('Clusters stocks')\n",
    "plt.xlabel('Principal Component-1')\n",
    "plt.ylabel('Principal Component-2')\n",
    "plt.legend()\n",
    "plt.show()"
   ]
  },
  {
   "cell_type": "markdown",
   "metadata": {},
   "source": [
    "# Identify which all stocks are moving together and which all stocks are different from each other. "
   ]
  },
  {
   "cell_type": "code",
   "execution_count": 25,
   "metadata": {},
   "outputs": [
    {
     "name": "stdout",
     "output_type": "stream",
     "text": [
      "unique Values= [0 1 2 3 4 5 6 7]\n",
      "Counts of Unique value= [5062 6858 5280 5865 4318 4069 6239 3575]\n"
     ]
    }
   ],
   "source": [
    "Unique_value , count = np.unique(label,return_counts=True)\n",
    "print(\"unique Values=\",Unique_value)\n",
    "print(\"Counts of Unique value=\",count)"
   ]
  },
  {
   "cell_type": "code",
   "execution_count": null,
   "metadata": {},
   "outputs": [],
   "source": []
  }
 ],
 "metadata": {
  "kernelspec": {
   "display_name": "Python 3",
   "language": "python",
   "name": "python3"
  },
  "language_info": {
   "codemirror_mode": {
    "name": "ipython",
    "version": 3
   },
   "file_extension": ".py",
   "mimetype": "text/x-python",
   "name": "python",
   "nbconvert_exporter": "python",
   "pygments_lexer": "ipython3",
   "version": "3.6.4"
  }
 },
 "nbformat": 4,
 "nbformat_minor": 2
}
